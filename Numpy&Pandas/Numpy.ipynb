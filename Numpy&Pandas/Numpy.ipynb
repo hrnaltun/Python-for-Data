{
 "cells": [
  {
   "cell_type": "code",
   "execution_count": 1,
   "id": "71c33237-0721-4b7b-a3b7-d999faaa3aaa",
   "metadata": {
    "tags": []
   },
   "outputs": [],
   "source": [
    "a=[1,2,3,4]\n",
    "b=[2,3,4,5]"
   ]
  },
  {
   "cell_type": "code",
   "execution_count": 2,
   "id": "06a792fc-411a-4516-9c17-21bcb68d1ac8",
   "metadata": {
    "tags": []
   },
   "outputs": [],
   "source": [
    "import numpy as np"
   ]
  },
  {
   "cell_type": "code",
   "execution_count": 3,
   "id": "0962c3d9-4e80-40c5-a638-736b875ca78a",
   "metadata": {
    "tags": []
   },
   "outputs": [
    {
     "data": {
      "text/plain": [
       "array([ 2,  6, 12, 20])"
      ]
     },
     "execution_count": 3,
     "metadata": {},
     "output_type": "execute_result"
    }
   ],
   "source": [
    "a=np.array([1,2,3,4])\n",
    "b=np.array([2,3,4,5])\n",
    "a*b"
   ]
  },
  {
   "cell_type": "code",
   "execution_count": 4,
   "id": "84092867-9e2b-4e7c-b585-407ff173387a",
   "metadata": {
    "tags": []
   },
   "outputs": [],
   "source": [
    "a=np.array([1,2,3,4,5])"
   ]
  },
  {
   "cell_type": "code",
   "execution_count": 5,
   "id": "bd16008c-4a8a-49c9-8de8-26c27a9ce5c4",
   "metadata": {
    "tags": []
   },
   "outputs": [
    {
     "data": {
      "text/plain": [
       "numpy.ndarray"
      ]
     },
     "execution_count": 5,
     "metadata": {},
     "output_type": "execute_result"
    }
   ],
   "source": [
    "type(a)"
   ]
  },
  {
   "cell_type": "code",
   "execution_count": 6,
   "id": "d10efefa-8780-4c38-ad6f-831fc3e16b1d",
   "metadata": {
    "tags": []
   },
   "outputs": [
    {
     "data": {
      "text/plain": [
       "array([3.14, 2.  , 3.  , 4.  ])"
      ]
     },
     "execution_count": 6,
     "metadata": {},
     "output_type": "execute_result"
    }
   ],
   "source": [
    "np.array([3.14,2,3,4])"
   ]
  },
  {
   "cell_type": "code",
   "execution_count": 7,
   "id": "f7327dee-dd52-4a54-9964-599a5985ce68",
   "metadata": {
    "tags": []
   },
   "outputs": [
    {
     "data": {
      "text/plain": [
       "array([3.14, 2.  , 3.  , 4.  ], dtype=float32)"
      ]
     },
     "execution_count": 7,
     "metadata": {},
     "output_type": "execute_result"
    }
   ],
   "source": [
    "np.array([3.14,2,3,4], dtype=np.float32)"
   ]
  },
  {
   "cell_type": "markdown",
   "id": "196cdb4f-040d-4d05-b441-8499f3f993b5",
   "metadata": {
    "tags": []
   },
   "source": [
    "###  <font color='red'>Create an array of only zeros</font>\n",
    "np.zeros(10)"
   ]
  },
  {
   "cell_type": "code",
   "execution_count": 8,
   "id": "16e07e16-5ad5-4c1f-b203-24fcdf87f15e",
   "metadata": {
    "tags": []
   },
   "outputs": [
    {
     "data": {
      "text/plain": [
       "array([0., 0., 0., 0., 0., 0., 0., 0., 0., 0.])"
      ]
     },
     "execution_count": 8,
     "metadata": {},
     "output_type": "execute_result"
    }
   ],
   "source": [
    "np.zeros(10)"
   ]
  },
  {
   "cell_type": "markdown",
   "id": "b8ceed5e-db2e-48ed-b45e-bbf98a5ba856",
   "metadata": {
    "tags": []
   },
   "source": [
    "###  <font color='red'>Create an array of only ones</font>\n",
    "np.ones((3,5),dtype=int)"
   ]
  },
  {
   "cell_type": "code",
   "execution_count": 9,
   "id": "b861ebd9-d3ba-48fc-9a76-926085bb9a4f",
   "metadata": {
    "tags": []
   },
   "outputs": [
    {
     "data": {
      "text/plain": [
       "array([[1, 1, 1, 1, 1],\n",
       "       [1, 1, 1, 1, 1],\n",
       "       [1, 1, 1, 1, 1]])"
      ]
     },
     "execution_count": 9,
     "metadata": {},
     "output_type": "execute_result"
    }
   ],
   "source": [
    "np.ones((3,5),dtype=int)"
   ]
  },
  {
   "cell_type": "markdown",
   "id": "6c968df3-3f94-4169-a70d-507d16204cf0",
   "metadata": {},
   "source": [
    "###  <font color='red'>Create an array of only the numbers we want</font>\n",
    "np.full((3,5),3)"
   ]
  },
  {
   "cell_type": "code",
   "execution_count": 10,
   "id": "6a231c43-489f-4b9f-967f-e0b92ee07823",
   "metadata": {
    "tags": []
   },
   "outputs": [
    {
     "data": {
      "text/plain": [
       "array([[3, 3, 3, 3, 3],\n",
       "       [3, 3, 3, 3, 3],\n",
       "       [3, 3, 3, 3, 3]])"
      ]
     },
     "execution_count": 10,
     "metadata": {},
     "output_type": "execute_result"
    }
   ],
   "source": [
    "np.full((3,5),3)"
   ]
  },
  {
   "cell_type": "markdown",
   "id": "196cd2d3-01dd-435f-bdf3-f73566dbf033",
   "metadata": {},
   "source": [
    "###  <font color='red'>Create an increasing array from one number to a number at regular intervals</font>\n",
    "np.arange(0,31,3)"
   ]
  },
  {
   "cell_type": "code",
   "execution_count": 11,
   "id": "31aae388-4fd1-4fb7-b720-2fb389cd3120",
   "metadata": {
    "tags": []
   },
   "outputs": [
    {
     "data": {
      "text/plain": [
       "array([ 0,  3,  6,  9, 12, 15, 18, 21, 24, 27, 30])"
      ]
     },
     "execution_count": 11,
     "metadata": {},
     "output_type": "execute_result"
    }
   ],
   "source": [
    "np.arange(0,31,3)"
   ]
  },
  {
   "cell_type": "markdown",
   "id": "7cf22ce5-c681-4e4d-bc3e-48aec731f466",
   "metadata": {},
   "source": [
    "###  <font color='red'>Create an array of as many numbers as we want between certain numbers</font>\n",
    "np.linspace(0,1,10)"
   ]
  },
  {
   "cell_type": "code",
   "execution_count": 12,
   "id": "d970d0c6-3146-4f28-94a8-3e01b7b50be0",
   "metadata": {
    "tags": []
   },
   "outputs": [
    {
     "data": {
      "text/plain": [
       "array([0.        , 0.11111111, 0.22222222, 0.33333333, 0.44444444,\n",
       "       0.55555556, 0.66666667, 0.77777778, 0.88888889, 1.        ])"
      ]
     },
     "execution_count": 12,
     "metadata": {},
     "output_type": "execute_result"
    }
   ],
   "source": [
    "np.linspace(0,1,10)"
   ]
  },
  {
   "cell_type": "markdown",
   "id": "c0155112-ec01-4e06-a71d-5e87b9ae6bb1",
   "metadata": {},
   "source": [
    "###  <font color='red'>Create a random matrix whose mean and standard deviation we determine</font>\n",
    "np.random.normal(10,4,(3,4))"
   ]
  },
  {
   "cell_type": "code",
   "execution_count": 13,
   "id": "8d656a5a-cfbf-4862-825e-3e477a5b1166",
   "metadata": {
    "tags": []
   },
   "outputs": [
    {
     "data": {
      "text/plain": [
       "array([[15.65623633, 10.33546658, 16.35445603,  8.18915889],\n",
       "       [15.61983447,  7.08944395,  8.15618762,  3.61464851],\n",
       "       [ 6.67638119, 18.07442945, 11.41424549,  9.56027222]])"
      ]
     },
     "execution_count": 13,
     "metadata": {},
     "output_type": "execute_result"
    }
   ],
   "source": [
    "np.random.normal(10,4,(3,4))"
   ]
  },
  {
   "cell_type": "markdown",
   "id": "96047d57-d168-4d3e-86ce-2227a265ed5e",
   "metadata": {},
   "source": [
    "###  <font color='red'>Create a random integer matrix in a specified range</font>\n",
    "np.random.randint(0,10,(3,3))"
   ]
  },
  {
   "cell_type": "code",
   "execution_count": 14,
   "id": "a28837ed-c9b8-47b8-b6d5-069ca2b1780e",
   "metadata": {
    "tags": []
   },
   "outputs": [
    {
     "data": {
      "text/plain": [
       "array([[9, 7, 0],\n",
       "       [8, 1, 2],\n",
       "       [2, 2, 7]])"
      ]
     },
     "execution_count": 14,
     "metadata": {},
     "output_type": "execute_result"
    }
   ],
   "source": [
    "np.random.randint(0,10,(3,3))"
   ]
  },
  {
   "cell_type": "markdown",
   "id": "0d627044-6f32-4edf-a57e-41ee56c59f48",
   "metadata": {},
   "source": [
    "* ndim: number of dimensions\n",
    "* shape: size information\n",
    "* size: number of elements\n",
    "* dtype: data type"
   ]
  },
  {
   "cell_type": "code",
   "execution_count": 15,
   "id": "90f58aa1-aa84-4c95-8780-e77d9d325be9",
   "metadata": {
    "tags": []
   },
   "outputs": [],
   "source": [
    "a=np.random.randint(10,size=10)"
   ]
  },
  {
   "cell_type": "code",
   "execution_count": 16,
   "id": "1258af20-5f75-4821-8fb5-1fb57521d1ef",
   "metadata": {
    "tags": []
   },
   "outputs": [
    {
     "data": {
      "text/plain": [
       "array([9, 2, 2, 5, 0, 3, 7, 1, 7, 9])"
      ]
     },
     "execution_count": 16,
     "metadata": {},
     "output_type": "execute_result"
    }
   ],
   "source": [
    "a"
   ]
  },
  {
   "cell_type": "code",
   "execution_count": 17,
   "id": "2fdd63ab-4ea3-4c07-8d42-a6cd355e5036",
   "metadata": {
    "tags": []
   },
   "outputs": [
    {
     "data": {
      "text/plain": [
       "1"
      ]
     },
     "execution_count": 17,
     "metadata": {},
     "output_type": "execute_result"
    }
   ],
   "source": [
    "a.ndim"
   ]
  },
  {
   "cell_type": "code",
   "execution_count": 18,
   "id": "46115dfc-c57b-43d5-a33a-6bf3ec3e9bbd",
   "metadata": {
    "tags": []
   },
   "outputs": [
    {
     "data": {
      "text/plain": [
       "(10,)"
      ]
     },
     "execution_count": 18,
     "metadata": {},
     "output_type": "execute_result"
    }
   ],
   "source": [
    "a.shape"
   ]
  },
  {
   "cell_type": "code",
   "execution_count": 19,
   "id": "5fa4669a-b8b8-4bfc-bb4d-2182c2f9fbd4",
   "metadata": {
    "tags": []
   },
   "outputs": [
    {
     "data": {
      "text/plain": [
       "10"
      ]
     },
     "execution_count": 19,
     "metadata": {},
     "output_type": "execute_result"
    }
   ],
   "source": [
    "a.size"
   ]
  },
  {
   "cell_type": "code",
   "execution_count": 20,
   "id": "61863b9a-2299-49d3-b993-f919e72b5686",
   "metadata": {
    "tags": []
   },
   "outputs": [
    {
     "data": {
      "text/plain": [
       "dtype('int32')"
      ]
     },
     "execution_count": 20,
     "metadata": {},
     "output_type": "execute_result"
    }
   ],
   "source": [
    "a.dtype"
   ]
  },
  {
   "cell_type": "code",
   "execution_count": 21,
   "id": "d22d2555-a956-456a-8f90-842d99095ad1",
   "metadata": {
    "tags": []
   },
   "outputs": [],
   "source": [
    "b=np.random.randint(10,size=(3,5))\n"
   ]
  },
  {
   "cell_type": "code",
   "execution_count": 22,
   "id": "fbc27feb-4e18-4960-8cb3-20eaea89be2a",
   "metadata": {
    "tags": []
   },
   "outputs": [
    {
     "data": {
      "text/plain": [
       "2"
      ]
     },
     "execution_count": 22,
     "metadata": {},
     "output_type": "execute_result"
    }
   ],
   "source": [
    "b.ndim"
   ]
  },
  {
   "cell_type": "code",
   "execution_count": 23,
   "id": "014508a4-d5f8-470e-81db-bdc880f41e26",
   "metadata": {
    "tags": []
   },
   "outputs": [
    {
     "data": {
      "text/plain": [
       "(3, 5)"
      ]
     },
     "execution_count": 23,
     "metadata": {},
     "output_type": "execute_result"
    }
   ],
   "source": [
    "b.shape"
   ]
  },
  {
   "cell_type": "code",
   "execution_count": 24,
   "id": "b0733f44-e2dd-466d-949e-80e0e3affeaa",
   "metadata": {
    "tags": []
   },
   "outputs": [
    {
     "data": {
      "text/plain": [
       "15"
      ]
     },
     "execution_count": 24,
     "metadata": {},
     "output_type": "execute_result"
    }
   ],
   "source": [
    "b.size"
   ]
  },
  {
   "cell_type": "code",
   "execution_count": 25,
   "id": "361f2dc7-4557-4f69-8e68-89d4f3375e62",
   "metadata": {
    "tags": []
   },
   "outputs": [
    {
     "data": {
      "text/plain": [
       "dtype('int32')"
      ]
     },
     "execution_count": 25,
     "metadata": {},
     "output_type": "execute_result"
    }
   ],
   "source": [
    "b.dtype"
   ]
  },
  {
   "cell_type": "markdown",
   "id": "e2bdf79a-cbea-4645-9022-f842dd0f9c18",
   "metadata": {},
   "source": [
    "###  <font color='red'>Reshaping an array or matrix</font>\n",
    "a.reshape((3,3))"
   ]
  },
  {
   "cell_type": "code",
   "execution_count": 26,
   "id": "b26f631e-a4d4-4adb-b4d3-4e0f8539bab0",
   "metadata": {
    "tags": []
   },
   "outputs": [
    {
     "data": {
      "text/plain": [
       "array([1, 2, 3, 4, 5, 6, 7, 8, 9])"
      ]
     },
     "execution_count": 26,
     "metadata": {},
     "output_type": "execute_result"
    }
   ],
   "source": [
    "np.arange(1,10)"
   ]
  },
  {
   "cell_type": "code",
   "execution_count": 27,
   "id": "6bab2d05-1937-492d-817d-8603e6efa23f",
   "metadata": {
    "tags": []
   },
   "outputs": [
    {
     "data": {
      "text/plain": [
       "array([[1, 2, 3],\n",
       "       [4, 5, 6],\n",
       "       [7, 8, 9]])"
      ]
     },
     "execution_count": 27,
     "metadata": {},
     "output_type": "execute_result"
    }
   ],
   "source": [
    "np.arange(1,10).reshape((3,3))"
   ]
  },
  {
   "cell_type": "code",
   "execution_count": 28,
   "id": "8c3630ec-567b-4993-af61-123ca7cb993d",
   "metadata": {
    "tags": []
   },
   "outputs": [],
   "source": [
    "a=np.arange(1,10)"
   ]
  },
  {
   "cell_type": "code",
   "execution_count": 29,
   "id": "de048d01-5ad7-471f-9a1a-9905738d3adc",
   "metadata": {
    "tags": []
   },
   "outputs": [
    {
     "data": {
      "text/plain": [
       "1"
      ]
     },
     "execution_count": 29,
     "metadata": {},
     "output_type": "execute_result"
    }
   ],
   "source": [
    "a.ndim"
   ]
  },
  {
   "cell_type": "code",
   "execution_count": 30,
   "id": "8acdb980-ee13-4a88-8372-f5ca7a079922",
   "metadata": {
    "tags": []
   },
   "outputs": [],
   "source": [
    "a=a.reshape((3,3))"
   ]
  },
  {
   "cell_type": "code",
   "execution_count": 31,
   "id": "94822f79-7b15-4849-9617-0a89d67f833d",
   "metadata": {
    "tags": []
   },
   "outputs": [
    {
     "data": {
      "text/plain": [
       "2"
      ]
     },
     "execution_count": 31,
     "metadata": {},
     "output_type": "execute_result"
    }
   ],
   "source": [
    "a.ndim"
   ]
  },
  {
   "cell_type": "markdown",
   "id": "8900c4d4-e550-45b9-b5cf-ef761aeea170",
   "metadata": {},
   "source": [
    "###  <font color='red'>Concatenation</font> \n",
    "**np.concatenate([a,a])** **vertical**\n",
    "\n",
    "array([[1, 2, 3],\n",
    "       [4, 5, 6],\n",
    "       [7, 8, 9],\n",
    "       [1, 2, 3],\n",
    "       [4, 5, 6],\n",
    "       [7, 8, 9]])\n",
    "\n",
    "**np.concatenate([a,a],axis=1)**  **horizontal**\n",
    "\n",
    "array([[1, 2, 3, 1, 2, 3],\n",
    "[4, 5, 6, 4, 5, 6],\n",
    "[7, 8, 9, 7, 8, 9]])\n",
    "       "
   ]
  },
  {
   "cell_type": "code",
   "execution_count": 32,
   "id": "a7355a35-b26e-4233-bc9c-4d45461468c7",
   "metadata": {
    "tags": []
   },
   "outputs": [],
   "source": [
    "x=np.array([1,2,3])\n",
    "y=np.array([4,5,6])"
   ]
  },
  {
   "cell_type": "code",
   "execution_count": 33,
   "id": "bf81a483-b0d4-4193-a7f3-46dc8e7747e1",
   "metadata": {
    "tags": []
   },
   "outputs": [
    {
     "data": {
      "text/plain": [
       "array([1, 2, 3, 4, 5, 6])"
      ]
     },
     "execution_count": 33,
     "metadata": {},
     "output_type": "execute_result"
    }
   ],
   "source": [
    "np.concatenate([x,y])"
   ]
  },
  {
   "cell_type": "code",
   "execution_count": 34,
   "id": "a103f41d-1169-4360-b336-bdd920b2e960",
   "metadata": {
    "tags": []
   },
   "outputs": [],
   "source": [
    "z=np.array([7,8,9])"
   ]
  },
  {
   "cell_type": "code",
   "execution_count": 35,
   "id": "b55c65f8-3eeb-41e4-9b9b-476677028982",
   "metadata": {
    "tags": []
   },
   "outputs": [
    {
     "data": {
      "text/plain": [
       "array([1, 2, 3, 4, 5, 6, 7, 8, 9])"
      ]
     },
     "execution_count": 35,
     "metadata": {},
     "output_type": "execute_result"
    }
   ],
   "source": [
    "np.concatenate([x,y,z])"
   ]
  },
  {
   "cell_type": "code",
   "execution_count": 36,
   "id": "acfcb9ec-2ecd-49f7-8bc1-a5b46045a1a9",
   "metadata": {
    "tags": []
   },
   "outputs": [],
   "source": [
    "a=np.array([[1,2,3],\n",
    "            [4,5,6],\n",
    "            [7,8,9]])"
   ]
  },
  {
   "cell_type": "code",
   "execution_count": 37,
   "id": "c59d6531-de49-431e-be8c-6f807404debe",
   "metadata": {
    "tags": []
   },
   "outputs": [
    {
     "data": {
      "text/plain": [
       "array([[1, 2, 3],\n",
       "       [4, 5, 6],\n",
       "       [7, 8, 9],\n",
       "       [1, 2, 3],\n",
       "       [4, 5, 6],\n",
       "       [7, 8, 9]])"
      ]
     },
     "execution_count": 37,
     "metadata": {},
     "output_type": "execute_result"
    }
   ],
   "source": [
    "np.concatenate([a,a])"
   ]
  },
  {
   "cell_type": "code",
   "execution_count": 38,
   "id": "3a3c2e3f-c412-451c-8da8-3b25cc903769",
   "metadata": {
    "tags": []
   },
   "outputs": [
    {
     "data": {
      "text/plain": [
       "array([[1, 2, 3, 1, 2, 3],\n",
       "       [4, 5, 6, 4, 5, 6],\n",
       "       [7, 8, 9, 7, 8, 9]])"
      ]
     },
     "execution_count": 38,
     "metadata": {},
     "output_type": "execute_result"
    }
   ],
   "source": [
    "np.concatenate([a,a],axis=1)"
   ]
  },
  {
   "cell_type": "markdown",
   "id": "2f3a5b2d-d1be-42f0-8a9d-4072bb672abb",
   "metadata": {},
   "source": [
    "###  <font color='red'>Splitting</font>\n",
    "\n",
    "np.split(x,[3,5])\n",
    "\n",
    "np.hsplit(m,[2]) **horizontal**\n",
    "\n",
    "np.vsplit(m,[2]) **vertical**"
   ]
  },
  {
   "cell_type": "code",
   "execution_count": 39,
   "id": "731f8c55-1311-4241-bfbb-b2fe0683ad4e",
   "metadata": {},
   "outputs": [
    {
     "data": {
      "text/plain": [
       "[array([1, 2, 3]), array([99, 99]), array([3, 2, 1])]"
      ]
     },
     "execution_count": 39,
     "metadata": {},
     "output_type": "execute_result"
    }
   ],
   "source": [
    "x=np.array([1,2,3,99,99,3,2,1])\n",
    "np.split(x,[3,5])"
   ]
  },
  {
   "cell_type": "code",
   "execution_count": 40,
   "id": "1d42e440-95a5-4160-a248-10365855d9dc",
   "metadata": {
    "tags": []
   },
   "outputs": [],
   "source": [
    "a,b,c=np.split(x,[3,5])"
   ]
  },
  {
   "cell_type": "code",
   "execution_count": 41,
   "id": "a47a85ac-58c3-4c47-ba8d-9872923702bd",
   "metadata": {
    "tags": []
   },
   "outputs": [
    {
     "data": {
      "text/plain": [
       "array([1, 2, 3])"
      ]
     },
     "execution_count": 41,
     "metadata": {},
     "output_type": "execute_result"
    }
   ],
   "source": [
    "a"
   ]
  },
  {
   "cell_type": "code",
   "execution_count": 42,
   "id": "55ef2972-544b-4eb0-8704-05b1235f54d8",
   "metadata": {
    "tags": []
   },
   "outputs": [
    {
     "data": {
      "text/plain": [
       "array([99, 99])"
      ]
     },
     "execution_count": 42,
     "metadata": {},
     "output_type": "execute_result"
    }
   ],
   "source": [
    "b"
   ]
  },
  {
   "cell_type": "code",
   "execution_count": 43,
   "id": "c5d620cd-8da4-4177-ba33-c4c892b71956",
   "metadata": {
    "tags": []
   },
   "outputs": [
    {
     "data": {
      "text/plain": [
       "array([3, 2, 1])"
      ]
     },
     "execution_count": 43,
     "metadata": {},
     "output_type": "execute_result"
    }
   ],
   "source": [
    "c"
   ]
  },
  {
   "cell_type": "code",
   "execution_count": 44,
   "id": "611e9c2a-9165-4c56-8781-80b0fdbbf3de",
   "metadata": {
    "tags": []
   },
   "outputs": [
    {
     "data": {
      "text/plain": [
       "array([[ 0,  1,  2,  3],\n",
       "       [ 4,  5,  6,  7],\n",
       "       [ 8,  9, 10, 11],\n",
       "       [12, 13, 14, 15]])"
      ]
     },
     "execution_count": 44,
     "metadata": {},
     "output_type": "execute_result"
    }
   ],
   "source": [
    "m=np.arange(16).reshape(4,4)\n",
    "m"
   ]
  },
  {
   "cell_type": "code",
   "execution_count": 45,
   "id": "e61808f1-6cfd-4925-8b3d-655e8381c173",
   "metadata": {
    "tags": []
   },
   "outputs": [
    {
     "data": {
      "text/plain": [
       "[array([[0, 1, 2, 3],\n",
       "        [4, 5, 6, 7]]),\n",
       " array([[ 8,  9, 10, 11],\n",
       "        [12, 13, 14, 15]])]"
      ]
     },
     "execution_count": 45,
     "metadata": {},
     "output_type": "execute_result"
    }
   ],
   "source": [
    "ust ,alt=np.vsplit(m,[2])\n",
    "np.vsplit(m,[2])"
   ]
  },
  {
   "cell_type": "code",
   "execution_count": 46,
   "id": "84b3c484-6916-40d3-bf67-0f4aca3715af",
   "metadata": {
    "tags": []
   },
   "outputs": [
    {
     "data": {
      "text/plain": [
       "[array([[ 0,  1],\n",
       "        [ 4,  5],\n",
       "        [ 8,  9],\n",
       "        [12, 13]]),\n",
       " array([[ 2,  3],\n",
       "        [ 6,  7],\n",
       "        [10, 11],\n",
       "        [14, 15]])]"
      ]
     },
     "execution_count": 46,
     "metadata": {},
     "output_type": "execute_result"
    }
   ],
   "source": [
    "sol,sag=np.hsplit(m,[2])\n",
    "np.hsplit(m,[2])"
   ]
  },
  {
   "cell_type": "markdown",
   "id": "92a433a2-5747-4b79-acea-1228fdabe9f5",
   "metadata": {},
   "source": [
    "###  <font color='red'>Sorting</font>\n",
    "\n",
    "np.sort(v)\n",
    "\n",
    "np.sort(b, axis=1) **horizontal**\n",
    "\n",
    "np.sort(b, axis=0) **vertical**"
   ]
  },
  {
   "cell_type": "code",
   "execution_count": 47,
   "id": "2e8787e4-36cb-4b0f-82ef-4b40e23e9a67",
   "metadata": {
    "tags": []
   },
   "outputs": [
    {
     "data": {
      "text/plain": [
       "array([2, 1, 4, 3, 5])"
      ]
     },
     "execution_count": 47,
     "metadata": {},
     "output_type": "execute_result"
    }
   ],
   "source": [
    "v=np.array([2,1,4,3,5])\n",
    "v"
   ]
  },
  {
   "cell_type": "code",
   "execution_count": 48,
   "id": "5b3612cb-2bf9-4f22-b43e-832d6baacdc0",
   "metadata": {
    "tags": []
   },
   "outputs": [
    {
     "data": {
      "text/plain": [
       "array([1, 2, 3, 4, 5])"
      ]
     },
     "execution_count": 48,
     "metadata": {},
     "output_type": "execute_result"
    }
   ],
   "source": [
    "np.sort(v)"
   ]
  },
  {
   "cell_type": "code",
   "execution_count": 49,
   "id": "98433228-40e4-4fec-94ed-13aca24fe4e1",
   "metadata": {
    "tags": []
   },
   "outputs": [
    {
     "data": {
      "text/plain": [
       "array([[23.45275082, 23.07786392, 27.23625018],\n",
       "       [15.84578374, 23.64956619, 27.56903991],\n",
       "       [16.96071764, 20.85463024, 26.49086389]])"
      ]
     },
     "execution_count": 49,
     "metadata": {},
     "output_type": "execute_result"
    }
   ],
   "source": [
    "b=np.random.normal(20,5,(3,3))\n",
    "b"
   ]
  },
  {
   "cell_type": "code",
   "execution_count": 50,
   "id": "5c8e7eb0-faa9-45e0-b489-d8ae26c69e52",
   "metadata": {
    "tags": []
   },
   "outputs": [
    {
     "data": {
      "text/plain": [
       "array([[23.07786392, 23.45275082, 27.23625018],\n",
       "       [15.84578374, 23.64956619, 27.56903991],\n",
       "       [16.96071764, 20.85463024, 26.49086389]])"
      ]
     },
     "execution_count": 50,
     "metadata": {},
     "output_type": "execute_result"
    }
   ],
   "source": [
    "np.sort(b, axis=1)"
   ]
  },
  {
   "cell_type": "code",
   "execution_count": 51,
   "id": "5749254e-9a92-4ac0-a337-509cf15e186b",
   "metadata": {
    "tags": []
   },
   "outputs": [
    {
     "data": {
      "text/plain": [
       "array([[15.84578374, 20.85463024, 26.49086389],\n",
       "       [16.96071764, 23.07786392, 27.23625018],\n",
       "       [23.45275082, 23.64956619, 27.56903991]])"
      ]
     },
     "execution_count": 51,
     "metadata": {},
     "output_type": "execute_result"
    }
   ],
   "source": [
    "np.sort(b, axis=0)"
   ]
  },
  {
   "cell_type": "markdown",
   "id": "968e3e03-7a50-463b-b457-8264c913bba0",
   "metadata": {},
   "source": [
    "###  <font color='red'>Accessing elements with index</font>"
   ]
  },
  {
   "cell_type": "code",
   "execution_count": 52,
   "id": "f8cd8d72-d8fb-49de-904c-bd75cbf8b01a",
   "metadata": {},
   "outputs": [
    {
     "data": {
      "text/plain": [
       "array([4, 1, 4, 7, 2, 0, 7, 9, 3, 5])"
      ]
     },
     "execution_count": 52,
     "metadata": {},
     "output_type": "execute_result"
    }
   ],
   "source": [
    "a=np.random.randint(10, size=10)\n",
    "a"
   ]
  },
  {
   "cell_type": "code",
   "execution_count": 53,
   "id": "6a0db6df-2152-4dc7-bedf-e748152697cd",
   "metadata": {
    "tags": []
   },
   "outputs": [
    {
     "data": {
      "text/plain": [
       "4"
      ]
     },
     "execution_count": 53,
     "metadata": {},
     "output_type": "execute_result"
    }
   ],
   "source": [
    "a[0]"
   ]
  },
  {
   "cell_type": "code",
   "execution_count": 54,
   "id": "7602f494-3dc4-419c-9c41-5c93dea3c973",
   "metadata": {
    "tags": []
   },
   "outputs": [
    {
     "data": {
      "text/plain": [
       "array([[7, 2, 8, 1, 9],\n",
       "       [5, 9, 0, 3, 0],\n",
       "       [3, 6, 1, 0, 6]])"
      ]
     },
     "execution_count": 54,
     "metadata": {},
     "output_type": "execute_result"
    }
   ],
   "source": [
    "m=np.random.randint(10, size=(3,5))\n",
    "m"
   ]
  },
  {
   "cell_type": "code",
   "execution_count": 55,
   "id": "b991e3c6-c7a5-4e2b-9286-5747320930c8",
   "metadata": {
    "tags": []
   },
   "outputs": [
    {
     "data": {
      "text/plain": [
       "7"
      ]
     },
     "execution_count": 55,
     "metadata": {},
     "output_type": "execute_result"
    }
   ],
   "source": [
    "m[0,0]"
   ]
  },
  {
   "cell_type": "code",
   "execution_count": 56,
   "id": "cfed3064-86f1-483b-8b7c-77c45cf58350",
   "metadata": {
    "tags": []
   },
   "outputs": [
    {
     "data": {
      "text/plain": [
       "1"
      ]
     },
     "execution_count": 56,
     "metadata": {},
     "output_type": "execute_result"
    }
   ],
   "source": [
    "m[0,3]"
   ]
  },
  {
   "cell_type": "code",
   "execution_count": 57,
   "id": "a9fc48ed-1bc4-42b9-8254-a14a62efb209",
   "metadata": {
    "tags": []
   },
   "outputs": [
    {
     "data": {
      "text/plain": [
       "array([[  7,   2,   8, 100,   9],\n",
       "       [  5,   9,   0,   3,   0],\n",
       "       [  3,   6,   1,   0,   6]])"
      ]
     },
     "execution_count": 57,
     "metadata": {},
     "output_type": "execute_result"
    }
   ],
   "source": [
    "m[0,3]=100\n",
    "m"
   ]
  },
  {
   "cell_type": "code",
   "execution_count": 58,
   "id": "0e016a32-20e9-48a9-a8a1-d3d2f022a516",
   "metadata": {
    "tags": []
   },
   "outputs": [
    {
     "data": {
      "text/plain": [
       "array([[  7,   2,   8, 100,   9],\n",
       "       [  5,   9,   0,   2,   0],\n",
       "       [  3,   6,   1,   0,   6]])"
      ]
     },
     "execution_count": 58,
     "metadata": {},
     "output_type": "execute_result"
    }
   ],
   "source": [
    "m[1,3]=2.2\n",
    "m"
   ]
  },
  {
   "cell_type": "markdown",
   "id": "e37020d9-7f22-4b46-b9a7-0b6fa0584cc0",
   "metadata": {},
   "source": [
    "###  <font color='red'>Accessing elements with slicing</font>"
   ]
  },
  {
   "cell_type": "code",
   "execution_count": 59,
   "id": "4db95c93-1a17-4044-afda-1d60ae928a13",
   "metadata": {},
   "outputs": [
    {
     "data": {
      "text/plain": [
       "array([20, 21, 22, 23, 24, 25, 26, 27, 28, 29])"
      ]
     },
     "execution_count": 59,
     "metadata": {},
     "output_type": "execute_result"
    }
   ],
   "source": [
    "a=np.arange(20,30)\n",
    "a"
   ]
  },
  {
   "cell_type": "code",
   "execution_count": 60,
   "id": "d3b67433-337b-433b-99dd-ebb54b4798bb",
   "metadata": {
    "tags": []
   },
   "outputs": [
    {
     "data": {
      "text/plain": [
       "array([20, 21, 22])"
      ]
     },
     "execution_count": 60,
     "metadata": {},
     "output_type": "execute_result"
    }
   ],
   "source": [
    "a[0:3]"
   ]
  },
  {
   "cell_type": "code",
   "execution_count": 61,
   "id": "b5ace949-47fc-436c-b129-fa5341bb276d",
   "metadata": {
    "tags": []
   },
   "outputs": [
    {
     "data": {
      "text/plain": [
       "array([20, 21, 22])"
      ]
     },
     "execution_count": 61,
     "metadata": {},
     "output_type": "execute_result"
    }
   ],
   "source": [
    "a[:3]"
   ]
  },
  {
   "cell_type": "code",
   "execution_count": 62,
   "id": "135f8cc2-e69d-48e3-995c-d507911d2b52",
   "metadata": {
    "tags": []
   },
   "outputs": [
    {
     "data": {
      "text/plain": [
       "array([23, 24, 25, 26, 27, 28, 29])"
      ]
     },
     "execution_count": 62,
     "metadata": {},
     "output_type": "execute_result"
    }
   ],
   "source": [
    "a[3:]"
   ]
  },
  {
   "cell_type": "code",
   "execution_count": 63,
   "id": "142204ca-c2c0-4975-b6f5-f617b3ce2ab0",
   "metadata": {
    "tags": []
   },
   "outputs": [
    {
     "data": {
      "text/plain": [
       "array([21, 23, 25, 27, 29])"
      ]
     },
     "execution_count": 63,
     "metadata": {},
     "output_type": "execute_result"
    }
   ],
   "source": [
    "a[1::2]"
   ]
  },
  {
   "cell_type": "code",
   "execution_count": 64,
   "id": "3f098fcf-091a-4ca3-aaa3-b77754feeddf",
   "metadata": {
    "tags": []
   },
   "outputs": [
    {
     "data": {
      "text/plain": [
       "array([20, 22, 24, 26, 28])"
      ]
     },
     "execution_count": 64,
     "metadata": {},
     "output_type": "execute_result"
    }
   ],
   "source": [
    "a[0::2]"
   ]
  },
  {
   "cell_type": "code",
   "execution_count": 65,
   "id": "42384298-6227-4df5-89f8-f87e4e2aac27",
   "metadata": {
    "tags": []
   },
   "outputs": [
    {
     "data": {
      "text/plain": [
       "array([20, 23, 26, 29])"
      ]
     },
     "execution_count": 65,
     "metadata": {},
     "output_type": "execute_result"
    }
   ],
   "source": [
    "a[0::3]"
   ]
  },
  {
   "cell_type": "code",
   "execution_count": 66,
   "id": "926c6d3f-92c6-45fe-bfa0-7cb83856dc90",
   "metadata": {
    "tags": []
   },
   "outputs": [
    {
     "data": {
      "text/plain": [
       "array([[2, 9, 4, 3, 6],\n",
       "       [0, 2, 1, 0, 1],\n",
       "       [4, 7, 3, 5, 2],\n",
       "       [8, 7, 9, 6, 6],\n",
       "       [7, 2, 7, 4, 8]])"
      ]
     },
     "execution_count": 66,
     "metadata": {},
     "output_type": "execute_result"
    }
   ],
   "source": [
    "m=np.random.randint(10,size=(5,5))\n",
    "m"
   ]
  },
  {
   "cell_type": "code",
   "execution_count": 67,
   "id": "edf8ac62-15a8-480b-a2c9-7dbceb53a96d",
   "metadata": {
    "tags": []
   },
   "outputs": [
    {
     "data": {
      "text/plain": [
       "array([2, 0, 4, 8, 7])"
      ]
     },
     "execution_count": 67,
     "metadata": {},
     "output_type": "execute_result"
    }
   ],
   "source": [
    "m[:,0]"
   ]
  },
  {
   "cell_type": "code",
   "execution_count": 68,
   "id": "6acd9758-eb50-4e6f-93a3-5033f65734b2",
   "metadata": {
    "tags": []
   },
   "outputs": [
    {
     "data": {
      "text/plain": [
       "array([2, 9, 4, 3, 6])"
      ]
     },
     "execution_count": 68,
     "metadata": {},
     "output_type": "execute_result"
    }
   ],
   "source": [
    "m[0,:]"
   ]
  },
  {
   "cell_type": "code",
   "execution_count": 69,
   "id": "9ea7a561-83e9-48f1-a5aa-116fc33a0c6e",
   "metadata": {
    "tags": []
   },
   "outputs": [
    {
     "data": {
      "text/plain": [
       "array([[2, 9, 4],\n",
       "       [0, 2, 1]])"
      ]
     },
     "execution_count": 69,
     "metadata": {},
     "output_type": "execute_result"
    }
   ],
   "source": [
    "m[0:2,0:3]"
   ]
  },
  {
   "cell_type": "code",
   "execution_count": 70,
   "id": "0c22e269-6302-493e-94d4-2d19b58e1f3d",
   "metadata": {
    "tags": []
   },
   "outputs": [
    {
     "data": {
      "text/plain": [
       "array([[2, 9],\n",
       "       [0, 2],\n",
       "       [4, 7],\n",
       "       [8, 7],\n",
       "       [7, 2]])"
      ]
     },
     "execution_count": 70,
     "metadata": {},
     "output_type": "execute_result"
    }
   ],
   "source": [
    "m[:,:2]"
   ]
  },
  {
   "cell_type": "code",
   "execution_count": 71,
   "id": "b29b5473-111b-4934-8899-d4b9b6a9977d",
   "metadata": {
    "tags": []
   },
   "outputs": [
    {
     "data": {
      "text/plain": [
       "array([[0, 2],\n",
       "       [4, 7]])"
      ]
     },
     "execution_count": 71,
     "metadata": {},
     "output_type": "execute_result"
    }
   ],
   "source": [
    "m[1:3,0:2]"
   ]
  },
  {
   "cell_type": "markdown",
   "id": "07084780-0e0c-4d6b-9750-7424cf44df2f",
   "metadata": {},
   "source": [
    "### <font color='red'>Manipulating subarrays</font> "
   ]
  },
  {
   "cell_type": "code",
   "execution_count": 72,
   "id": "b131d248-75b1-4a66-95d3-4c188ddad2ea",
   "metadata": {
    "tags": []
   },
   "outputs": [
    {
     "data": {
      "text/plain": [
       "array([[8, 9, 7, 4, 0],\n",
       "       [5, 9, 0, 6, 0],\n",
       "       [8, 0, 9, 9, 5],\n",
       "       [2, 8, 4, 4, 3],\n",
       "       [3, 7, 5, 7, 7]])"
      ]
     },
     "execution_count": 72,
     "metadata": {},
     "output_type": "execute_result"
    }
   ],
   "source": [
    "a=np.random.randint(10, size=(5,5))\n",
    "a"
   ]
  },
  {
   "cell_type": "code",
   "execution_count": 73,
   "id": "f0bef423-3702-479d-9a37-561242de1821",
   "metadata": {
    "tags": []
   },
   "outputs": [
    {
     "data": {
      "text/plain": [
       "array([[8, 9],\n",
       "       [5, 9],\n",
       "       [8, 0]])"
      ]
     },
     "execution_count": 73,
     "metadata": {},
     "output_type": "execute_result"
    }
   ],
   "source": [
    "sub_a=a[0:3,0:2]\n",
    "sub_a"
   ]
  },
  {
   "cell_type": "code",
   "execution_count": 74,
   "id": "5f576e1a-3a86-4383-8a90-8222fecf32f6",
   "metadata": {
    "tags": []
   },
   "outputs": [],
   "source": [
    "sub_a[0,0]=999\n",
    "sub_a[1,1]=888"
   ]
  },
  {
   "cell_type": "code",
   "execution_count": 75,
   "id": "a74958a8-296a-44c7-8b8c-9203bca96012",
   "metadata": {
    "tags": []
   },
   "outputs": [
    {
     "data": {
      "text/plain": [
       "array([[999,   9],\n",
       "       [  5, 888],\n",
       "       [  8,   0]])"
      ]
     },
     "execution_count": 75,
     "metadata": {},
     "output_type": "execute_result"
    }
   ],
   "source": [
    "sub_a"
   ]
  },
  {
   "cell_type": "code",
   "execution_count": 76,
   "id": "e8fc639a-aee1-4203-ada2-65838eca54da",
   "metadata": {
    "tags": []
   },
   "outputs": [
    {
     "data": {
      "text/plain": [
       "array([[999,   9,   7,   4,   0],\n",
       "       [  5, 888,   0,   6,   0],\n",
       "       [  8,   0,   9,   9,   5],\n",
       "       [  2,   8,   4,   4,   3],\n",
       "       [  3,   7,   5,   7,   7]])"
      ]
     },
     "execution_count": 76,
     "metadata": {},
     "output_type": "execute_result"
    }
   ],
   "source": [
    "a"
   ]
  },
  {
   "cell_type": "code",
   "execution_count": 77,
   "id": "880af19b-dae5-4c81-aa73-b87c507c4059",
   "metadata": {
    "tags": []
   },
   "outputs": [
    {
     "data": {
      "text/plain": [
       "array([[6, 8, 0, 3, 3],\n",
       "       [0, 9, 9, 1, 4],\n",
       "       [7, 2, 9, 2, 0],\n",
       "       [8, 8, 9, 8, 7],\n",
       "       [3, 5, 5, 8, 6]])"
      ]
     },
     "execution_count": 77,
     "metadata": {},
     "output_type": "execute_result"
    }
   ],
   "source": [
    "m=np.random.randint(10, size=(5,5))\n",
    "m"
   ]
  },
  {
   "cell_type": "code",
   "execution_count": 78,
   "id": "9b60c7b3-51c5-4959-a226-d98a17533023",
   "metadata": {
    "tags": []
   },
   "outputs": [
    {
     "data": {
      "text/plain": [
       "array([[6, 8],\n",
       "       [0, 9],\n",
       "       [7, 2]])"
      ]
     },
     "execution_count": 78,
     "metadata": {},
     "output_type": "execute_result"
    }
   ],
   "source": [
    "sub_m=m[0:3,0:2].copy()\n",
    "sub_m"
   ]
  },
  {
   "cell_type": "code",
   "execution_count": 79,
   "id": "68e17a7f-0eb1-4d01-ad20-713b33b45fce",
   "metadata": {
    "tags": []
   },
   "outputs": [],
   "source": [
    "sub_m[0,0]=9999"
   ]
  },
  {
   "cell_type": "code",
   "execution_count": 80,
   "id": "412bdc04-92df-41fe-9cf1-a5e061e40b43",
   "metadata": {
    "tags": []
   },
   "outputs": [
    {
     "data": {
      "text/plain": [
       "(array([[9999,    8],\n",
       "        [   0,    9],\n",
       "        [   7,    2]]),\n",
       " array([[6, 8, 0, 3, 3],\n",
       "        [0, 9, 9, 1, 4],\n",
       "        [7, 2, 9, 2, 0],\n",
       "        [8, 8, 9, 8, 7],\n",
       "        [3, 5, 5, 8, 6]]))"
      ]
     },
     "execution_count": 80,
     "metadata": {},
     "output_type": "execute_result"
    }
   ],
   "source": [
    "sub_m , m "
   ]
  },
  {
   "cell_type": "markdown",
   "id": "5948bb14-38a0-4f07-ae11-7a4a43c27676",
   "metadata": {},
   "source": [
    "### <font color='red'>Accessing elements with fancy index </font>"
   ]
  },
  {
   "cell_type": "code",
   "execution_count": 81,
   "id": "5efe0662-b019-4421-9835-14150d9f923f",
   "metadata": {
    "tags": []
   },
   "outputs": [
    {
     "data": {
      "text/plain": [
       "array([ 0,  3,  6,  9, 12, 15, 18, 21, 24, 27])"
      ]
     },
     "execution_count": 81,
     "metadata": {},
     "output_type": "execute_result"
    }
   ],
   "source": [
    "v=np.arange(0,30,3)\n",
    "v"
   ]
  },
  {
   "cell_type": "code",
   "execution_count": 82,
   "id": "5158ffde-81a1-4ebb-be06-e9681ab06d56",
   "metadata": {
    "tags": []
   },
   "outputs": [
    {
     "data": {
      "text/plain": [
       "[3, 9, 15]"
      ]
     },
     "execution_count": 82,
     "metadata": {},
     "output_type": "execute_result"
    }
   ],
   "source": [
    "[v[1],v[3],v[5]]"
   ]
  },
  {
   "cell_type": "code",
   "execution_count": 83,
   "id": "d068a658-9d4a-49ca-a15c-93f83313929e",
   "metadata": {
    "tags": []
   },
   "outputs": [
    {
     "data": {
      "text/plain": [
       "array([ 3,  9, 15])"
      ]
     },
     "execution_count": 83,
     "metadata": {},
     "output_type": "execute_result"
    }
   ],
   "source": [
    "bring=[1,3,5]\n",
    "v[bring]"
   ]
  },
  {
   "cell_type": "markdown",
   "id": "4bd36590-b486-446b-9a12-d16e53090eff",
   "metadata": {},
   "source": [
    "#### for matrix"
   ]
  },
  {
   "cell_type": "code",
   "execution_count": 84,
   "id": "8e802df2-c551-4130-8967-251ae0b22aab",
   "metadata": {
    "tags": []
   },
   "outputs": [
    {
     "data": {
      "text/plain": [
       "array([[0, 1, 2],\n",
       "       [3, 4, 5],\n",
       "       [6, 7, 8]])"
      ]
     },
     "execution_count": 84,
     "metadata": {},
     "output_type": "execute_result"
    }
   ],
   "source": [
    "m=np.arange(9).reshape((3,3))\n",
    "m"
   ]
  },
  {
   "cell_type": "code",
   "execution_count": 85,
   "id": "62eee32e-20aa-485b-bd91-b22faf020312",
   "metadata": {
    "tags": []
   },
   "outputs": [
    {
     "data": {
      "text/plain": [
       "array([1, 5])"
      ]
     },
     "execution_count": 85,
     "metadata": {},
     "output_type": "execute_result"
    }
   ],
   "source": [
    "rows=np.array([0,1])\n",
    "columns=np.array([1,2])\n",
    "m[rows,columns]"
   ]
  },
  {
   "cell_type": "markdown",
   "id": "4b0e09c2-ceee-4fc2-80e4-f053b3e22de7",
   "metadata": {},
   "source": [
    "#### fancy index with basic index"
   ]
  },
  {
   "cell_type": "code",
   "execution_count": 86,
   "id": "9f732863-0e8b-4510-b121-831dfd02de8b",
   "metadata": {
    "tags": []
   },
   "outputs": [
    {
     "data": {
      "text/plain": [
       "array([1, 2])"
      ]
     },
     "execution_count": 86,
     "metadata": {},
     "output_type": "execute_result"
    }
   ],
   "source": [
    "m[0,[1,2]]"
   ]
  },
  {
   "cell_type": "markdown",
   "id": "52640409-18ea-4986-9a21-d50218adf7bd",
   "metadata": {},
   "source": [
    "#### fancy index with slicing"
   ]
  },
  {
   "cell_type": "code",
   "execution_count": 87,
   "id": "8e9a2e21-6e3a-473a-a46b-e5c27cf42df6",
   "metadata": {
    "tags": []
   },
   "outputs": [
    {
     "data": {
      "text/plain": [
       "array([[1, 2],\n",
       "       [4, 5],\n",
       "       [7, 8]])"
      ]
     },
     "execution_count": 87,
     "metadata": {},
     "output_type": "execute_result"
    }
   ],
   "source": [
    "m[0:,[1,2]]"
   ]
  },
  {
   "cell_type": "markdown",
   "id": "5ade939f-4685-48a1-a654-b9adf0515050",
   "metadata": {},
   "source": [
    "### <font color='red'>Conditional element operations</font> "
   ]
  },
  {
   "cell_type": "code",
   "execution_count": 88,
   "id": "99671a6c-6892-4718-9e72-4548a90d6eee",
   "metadata": {
    "tags": []
   },
   "outputs": [],
   "source": [
    "v=np.array([1, 2, 3, 4, 5])"
   ]
  },
  {
   "cell_type": "code",
   "execution_count": 89,
   "id": "e77c0915-2672-4fd3-ae81-26ecdb31bc2f",
   "metadata": {
    "tags": []
   },
   "outputs": [
    {
     "data": {
      "text/plain": [
       "array([False, False, False, False, False])"
      ]
     },
     "execution_count": 89,
     "metadata": {},
     "output_type": "execute_result"
    }
   ],
   "source": [
    "v>5"
   ]
  },
  {
   "cell_type": "code",
   "execution_count": 90,
   "id": "02e88f9b-4815-42d1-8f43-f27509752ec7",
   "metadata": {
    "tags": []
   },
   "outputs": [
    {
     "data": {
      "text/plain": [
       "array([4, 5])"
      ]
     },
     "execution_count": 90,
     "metadata": {},
     "output_type": "execute_result"
    }
   ],
   "source": [
    "v[v>3]"
   ]
  },
  {
   "cell_type": "code",
   "execution_count": 91,
   "id": "a2621dec-2072-486c-b130-4075555d4344",
   "metadata": {
    "tags": []
   },
   "outputs": [
    {
     "data": {
      "text/plain": [
       "array([3, 4, 5])"
      ]
     },
     "execution_count": 91,
     "metadata": {},
     "output_type": "execute_result"
    }
   ],
   "source": [
    "v[v>=3]"
   ]
  },
  {
   "cell_type": "code",
   "execution_count": 92,
   "id": "abe1d9be-734d-421e-924b-c3ddde13ded1",
   "metadata": {
    "tags": []
   },
   "outputs": [
    {
     "data": {
      "text/plain": [
       "array([1, 2])"
      ]
     },
     "execution_count": 92,
     "metadata": {},
     "output_type": "execute_result"
    }
   ],
   "source": [
    "v[v<3]"
   ]
  },
  {
   "cell_type": "code",
   "execution_count": 93,
   "id": "f532b95e-4c78-43c3-ae0b-81ab24358820",
   "metadata": {
    "tags": []
   },
   "outputs": [
    {
     "data": {
      "text/plain": [
       "array([1, 2, 3])"
      ]
     },
     "execution_count": 93,
     "metadata": {},
     "output_type": "execute_result"
    }
   ],
   "source": [
    "v[v<=3]"
   ]
  },
  {
   "cell_type": "code",
   "execution_count": 94,
   "id": "47b31542-fd2f-4d7f-a24d-5bb852659873",
   "metadata": {
    "tags": []
   },
   "outputs": [
    {
     "data": {
      "text/plain": [
       "array([1, 2, 4, 5])"
      ]
     },
     "execution_count": 94,
     "metadata": {},
     "output_type": "execute_result"
    }
   ],
   "source": [
    "v[v!=3]"
   ]
  },
  {
   "cell_type": "code",
   "execution_count": 95,
   "id": "bcae9ae3-1366-4373-8835-f12a757e7379",
   "metadata": {
    "tags": []
   },
   "outputs": [
    {
     "data": {
      "text/plain": [
       "array([ 2,  4,  6,  8, 10])"
      ]
     },
     "execution_count": 95,
     "metadata": {},
     "output_type": "execute_result"
    }
   ],
   "source": [
    "v*2"
   ]
  },
  {
   "cell_type": "code",
   "execution_count": 96,
   "id": "d6f80eeb-294f-4f5a-a6c9-ccedee9becda",
   "metadata": {
    "tags": []
   },
   "outputs": [
    {
     "data": {
      "text/plain": [
       "array([0.2, 0.4, 0.6, 0.8, 1. ])"
      ]
     },
     "execution_count": 96,
     "metadata": {},
     "output_type": "execute_result"
    }
   ],
   "source": [
    "v/5"
   ]
  },
  {
   "cell_type": "code",
   "execution_count": 97,
   "id": "c73d485a-f9e7-4ac1-8936-c713ada55ca6",
   "metadata": {
    "tags": []
   },
   "outputs": [
    {
     "data": {
      "text/plain": [
       "array([ 1,  4,  9, 16, 25])"
      ]
     },
     "execution_count": 97,
     "metadata": {},
     "output_type": "execute_result"
    }
   ],
   "source": [
    "v**2"
   ]
  },
  {
   "cell_type": "markdown",
   "id": "f1c45494-5ea6-47cb-8dfe-ff2591aa71bf",
   "metadata": {},
   "source": [
    "### <font color='red'>Mathematical operations</font> "
   ]
  },
  {
   "cell_type": "code",
   "execution_count": 98,
   "id": "e1fd5aa5-f952-431c-b0e2-dd3709218c9d",
   "metadata": {
    "tags": []
   },
   "outputs": [],
   "source": [
    "v=np.array([1, 2, 3, 4, 5])"
   ]
  },
  {
   "cell_type": "code",
   "execution_count": 99,
   "id": "12de9691-bb7f-43e2-91ed-be955875c94a",
   "metadata": {
    "tags": []
   },
   "outputs": [
    {
     "data": {
      "text/plain": [
       "array([0, 1, 2, 3, 4])"
      ]
     },
     "execution_count": 99,
     "metadata": {},
     "output_type": "execute_result"
    }
   ],
   "source": [
    "v-1"
   ]
  },
  {
   "cell_type": "code",
   "execution_count": 100,
   "id": "4477a2f5-4e7b-4598-95e1-9fabb201ab48",
   "metadata": {
    "tags": []
   },
   "outputs": [
    {
     "data": {
      "text/plain": [
       "array([ 5, 10, 15, 20, 25])"
      ]
     },
     "execution_count": 100,
     "metadata": {},
     "output_type": "execute_result"
    }
   ],
   "source": [
    "v*5"
   ]
  },
  {
   "cell_type": "code",
   "execution_count": 101,
   "id": "ab498424-d58d-4655-9038-da1a8a5b2249",
   "metadata": {
    "tags": []
   },
   "outputs": [
    {
     "data": {
      "text/plain": [
       "array([0.2, 0.4, 0.6, 0.8, 1. ])"
      ]
     },
     "execution_count": 101,
     "metadata": {},
     "output_type": "execute_result"
    }
   ],
   "source": [
    "v/5"
   ]
  },
  {
   "cell_type": "code",
   "execution_count": 102,
   "id": "61de420a-ea04-4f86-b951-ee1b6648efdd",
   "metadata": {
    "tags": []
   },
   "outputs": [
    {
     "data": {
      "text/plain": [
       "array([-0.5,  0. ,  0.5,  1. ,  1.5])"
      ]
     },
     "execution_count": 102,
     "metadata": {},
     "output_type": "execute_result"
    }
   ],
   "source": [
    "v*5/10-1"
   ]
  },
  {
   "cell_type": "code",
   "execution_count": 103,
   "id": "f1fb1366-d593-43aa-a511-c29741679c41",
   "metadata": {
    "tags": []
   },
   "outputs": [],
   "source": [
    "#ufunc"
   ]
  },
  {
   "cell_type": "code",
   "execution_count": 104,
   "id": "77877043-40b8-4547-9368-fabadbcb37d5",
   "metadata": {
    "tags": []
   },
   "outputs": [
    {
     "data": {
      "text/plain": [
       "array([0, 1, 2, 3, 4])"
      ]
     },
     "execution_count": 104,
     "metadata": {},
     "output_type": "execute_result"
    }
   ],
   "source": [
    "np.subtract(v,1)"
   ]
  },
  {
   "cell_type": "code",
   "execution_count": 105,
   "id": "63b1fe8d-d991-48a7-9346-dc21b2458f67",
   "metadata": {
    "tags": []
   },
   "outputs": [
    {
     "data": {
      "text/plain": [
       "array([2, 3, 4, 5, 6])"
      ]
     },
     "execution_count": 105,
     "metadata": {},
     "output_type": "execute_result"
    }
   ],
   "source": [
    "np.add(v,1)"
   ]
  },
  {
   "cell_type": "code",
   "execution_count": 106,
   "id": "9aea4f2e-dff4-4245-83ae-ee10541b2f55",
   "metadata": {
    "tags": []
   },
   "outputs": [
    {
     "data": {
      "text/plain": [
       "array([ 4,  8, 12, 16, 20])"
      ]
     },
     "execution_count": 106,
     "metadata": {},
     "output_type": "execute_result"
    }
   ],
   "source": [
    "np.multiply(v,4)"
   ]
  },
  {
   "cell_type": "code",
   "execution_count": 107,
   "id": "2c7964ad-93e1-4aef-a2ed-9d399cf83f64",
   "metadata": {
    "tags": []
   },
   "outputs": [
    {
     "data": {
      "text/plain": [
       "array([ 1,  4,  9, 16, 25], dtype=int32)"
      ]
     },
     "execution_count": 107,
     "metadata": {},
     "output_type": "execute_result"
    }
   ],
   "source": [
    "np.power(v,2)"
   ]
  },
  {
   "cell_type": "code",
   "execution_count": 108,
   "id": "f611961c-7930-4121-859e-d09f39fea3ba",
   "metadata": {
    "tags": []
   },
   "outputs": [
    {
     "data": {
      "text/plain": [
       "array([1, 0, 1, 0, 1], dtype=int32)"
      ]
     },
     "execution_count": 108,
     "metadata": {},
     "output_type": "execute_result"
    }
   ],
   "source": [
    "np.mod(v,2)"
   ]
  },
  {
   "cell_type": "code",
   "execution_count": 109,
   "id": "f2310284-148f-47c9-9f0d-e3ab91adf33e",
   "metadata": {
    "tags": []
   },
   "outputs": [
    {
     "data": {
      "text/plain": [
       "array([3])"
      ]
     },
     "execution_count": 109,
     "metadata": {},
     "output_type": "execute_result"
    }
   ],
   "source": [
    "np.absolute(np.array([-3]))"
   ]
  },
  {
   "cell_type": "code",
   "execution_count": 110,
   "id": "1995dc02-a221-428f-bf92-747a00bc34c3",
   "metadata": {
    "tags": []
   },
   "outputs": [
    {
     "data": {
      "text/plain": [
       "0.9589157234143065"
      ]
     },
     "execution_count": 110,
     "metadata": {},
     "output_type": "execute_result"
    }
   ],
   "source": [
    "np.sin(360)"
   ]
  },
  {
   "cell_type": "code",
   "execution_count": 111,
   "id": "847fe192-b15a-4201-9b85-9c8aaa0ec3e3",
   "metadata": {
    "tags": []
   },
   "outputs": [
    {
     "data": {
      "text/plain": [
       "array([0.        , 0.69314718, 1.09861229, 1.38629436, 1.60943791])"
      ]
     },
     "execution_count": 111,
     "metadata": {},
     "output_type": "execute_result"
    }
   ],
   "source": [
    "np.log(v)"
   ]
  },
  {
   "cell_type": "code",
   "execution_count": 112,
   "id": "50a86aeb-ae65-4d23-aff3-c6c8d8eed89c",
   "metadata": {
    "tags": []
   },
   "outputs": [
    {
     "data": {
      "text/plain": [
       "(array([0.        , 1.        , 1.5849625 , 2.        , 2.32192809]),\n",
       " array([0.        , 0.30103   , 0.47712125, 0.60205999, 0.69897   ]))"
      ]
     },
     "execution_count": 112,
     "metadata": {},
     "output_type": "execute_result"
    }
   ],
   "source": [
    "np.log2(v), np.log10(v)"
   ]
  },
  {
   "cell_type": "markdown",
   "id": "abfb2233-c52b-4718-b3f3-96526e410421",
   "metadata": {},
   "source": [
    "###  <font color='red'>Two unknown equation solution with numpy</font> \n",
    "5*x0 + x1=12\n",
    "\n",
    "x0 + 3*x1=10"
   ]
  },
  {
   "cell_type": "code",
   "execution_count": 113,
   "id": "ddd6a0f9-de16-46ac-a2c1-8beb34f3103f",
   "metadata": {
    "tags": []
   },
   "outputs": [
    {
     "data": {
      "text/plain": [
       "array([1.85714286, 2.71428571])"
      ]
     },
     "execution_count": 113,
     "metadata": {},
     "output_type": "execute_result"
    }
   ],
   "source": [
    "a=np.array([[5,1],[1,3]])\n",
    "b=np.array([12,10])\n",
    "x= np.linalg.solve(a,b)\n",
    "x"
   ]
  }
 ],
 "metadata": {
  "kernelspec": {
   "display_name": "Python 3 (ipykernel)",
   "language": "python",
   "name": "python3"
  },
  "language_info": {
   "codemirror_mode": {
    "name": "ipython",
    "version": 3
   },
   "file_extension": ".py",
   "mimetype": "text/x-python",
   "name": "python",
   "nbconvert_exporter": "python",
   "pygments_lexer": "ipython3",
   "version": "3.11.5"
  }
 },
 "nbformat": 4,
 "nbformat_minor": 5
}
