{
 "cells": [
  {
   "cell_type": "markdown",
   "id": "c228dfa4-a754-40b8-af42-5766d3708c74",
   "metadata": {
    "jp-MarkdownHeadingCollapsed": true,
    "tags": []
   },
   "source": [
    "## <font color=\"red\">Sample Theory</font>"
   ]
  },
  {
   "cell_type": "code",
   "execution_count": 1,
   "id": "fc46e804-5114-4a24-b926-4c1382869ebe",
   "metadata": {
    "tags": []
   },
   "outputs": [
    {
     "data": {
      "text/plain": [
       "array([47, 25, 50, 63, 24, 51, 75, 15,  6, 16])"
      ]
     },
     "execution_count": 1,
     "metadata": {},
     "output_type": "execute_result"
    }
   ],
   "source": [
    "import numpy as np\n",
    "population =np.random.randint(0,80,10000)\n",
    "population[:10]"
   ]
  },
  {
   "cell_type": "code",
   "execution_count": 2,
   "id": "bfb53749-459e-4bee-829d-76cf372ebdc1",
   "metadata": {
    "tags": []
   },
   "outputs": [
    {
     "data": {
      "text/plain": [
       "array([ 4, 68, 74, 60,  7, 73, 31, 68, 61, 14])"
      ]
     },
     "execution_count": 2,
     "metadata": {},
     "output_type": "execute_result"
    }
   ],
   "source": [
    "#sample extraction\n",
    "np.random.seed(115)\n",
    "sample = np.random.choice(a=population,size=100)\n",
    "sample[:10]"
   ]
  },
  {
   "cell_type": "code",
   "execution_count": 3,
   "id": "1cbff301-0a8f-4ba1-ab61-559fb3e7ed73",
   "metadata": {},
   "outputs": [
    {
     "data": {
      "text/plain": [
       "37.14"
      ]
     },
     "execution_count": 3,
     "metadata": {},
     "output_type": "execute_result"
    }
   ],
   "source": [
    "sample.mean()"
   ]
  },
  {
   "cell_type": "code",
   "execution_count": 4,
   "id": "c9a3f54f-afb5-4e5e-9346-146572b7b34a",
   "metadata": {
    "tags": []
   },
   "outputs": [
    {
     "data": {
      "text/plain": [
       "39.7006"
      ]
     },
     "execution_count": 4,
     "metadata": {},
     "output_type": "execute_result"
    }
   ],
   "source": [
    "population.mean()"
   ]
  },
  {
   "cell_type": "code",
   "execution_count": 5,
   "id": "94e1afbd-64a3-46e6-9a90-6bb847bc54bc",
   "metadata": {
    "tags": []
   },
   "outputs": [],
   "source": [
    "#sample distribution\n",
    "np.random.seed(10)\n",
    "sample1 = np.random.choice(a=population,size=100)\n",
    "sample2 = np.random.choice(a=population,size=100)\n",
    "sample3 = np.random.choice(a=population,size=100)\n",
    "sample4 = np.random.choice(a=population,size=100)\n",
    "sample5 = np.random.choice(a=population,size=100)\n",
    "sample6 = np.random.choice(a=population,size=100)\n",
    "sample7 = np.random.choice(a=population,size=100)\n",
    "sample8 = np.random.choice(a=population,size=100)\n",
    "sample9 = np.random.choice(a=population,size=100)\n",
    "sample10 = np.random.choice(a=population,size=100)"
   ]
  },
  {
   "cell_type": "code",
   "execution_count": 6,
   "id": "ff2ba1e5-3f58-4227-9fe1-0cdda6c04337",
   "metadata": {
    "tags": []
   },
   "outputs": [
    {
     "data": {
      "text/plain": [
       "39.68800000000001"
      ]
     },
     "execution_count": 6,
     "metadata": {},
     "output_type": "execute_result"
    }
   ],
   "source": [
    "(sample1.mean()+sample2.mean()+sample3.mean()+sample4.mean()+sample5.mean()\n",
    " +sample6.mean()+sample7.mean()+sample8.mean()+sample9.mean()+sample10.mean())/10"
   ]
  },
  {
   "cell_type": "markdown",
   "id": "21bf1aae-e353-4a6b-8711-9886d0ce8774",
   "metadata": {
    "jp-MarkdownHeadingCollapsed": true,
    "tags": []
   },
   "source": [
    "## <font color=\"red\">Descriptive Statistics</font>"
   ]
  },
  {
   "cell_type": "code",
   "execution_count": 7,
   "id": "7511c6f2-ec08-4719-9702-22a08801b7cf",
   "metadata": {
    "tags": []
   },
   "outputs": [
    {
     "data": {
      "text/html": [
       "<div>\n",
       "<style scoped>\n",
       "    .dataframe tbody tr th:only-of-type {\n",
       "        vertical-align: middle;\n",
       "    }\n",
       "\n",
       "    .dataframe tbody tr th {\n",
       "        vertical-align: top;\n",
       "    }\n",
       "\n",
       "    .dataframe thead th {\n",
       "        text-align: right;\n",
       "    }\n",
       "</style>\n",
       "<table border=\"1\" class=\"dataframe\">\n",
       "  <thead>\n",
       "    <tr style=\"text-align: right;\">\n",
       "      <th></th>\n",
       "      <th>total_bill</th>\n",
       "      <th>tip</th>\n",
       "      <th>sex</th>\n",
       "      <th>smoker</th>\n",
       "      <th>day</th>\n",
       "      <th>time</th>\n",
       "      <th>size</th>\n",
       "    </tr>\n",
       "  </thead>\n",
       "  <tbody>\n",
       "    <tr>\n",
       "      <th>0</th>\n",
       "      <td>16.99</td>\n",
       "      <td>1.01</td>\n",
       "      <td>Female</td>\n",
       "      <td>No</td>\n",
       "      <td>Sun</td>\n",
       "      <td>Dinner</td>\n",
       "      <td>2</td>\n",
       "    </tr>\n",
       "    <tr>\n",
       "      <th>1</th>\n",
       "      <td>10.34</td>\n",
       "      <td>1.66</td>\n",
       "      <td>Male</td>\n",
       "      <td>No</td>\n",
       "      <td>Sun</td>\n",
       "      <td>Dinner</td>\n",
       "      <td>3</td>\n",
       "    </tr>\n",
       "    <tr>\n",
       "      <th>2</th>\n",
       "      <td>21.01</td>\n",
       "      <td>3.50</td>\n",
       "      <td>Male</td>\n",
       "      <td>No</td>\n",
       "      <td>Sun</td>\n",
       "      <td>Dinner</td>\n",
       "      <td>3</td>\n",
       "    </tr>\n",
       "    <tr>\n",
       "      <th>3</th>\n",
       "      <td>23.68</td>\n",
       "      <td>3.31</td>\n",
       "      <td>Male</td>\n",
       "      <td>No</td>\n",
       "      <td>Sun</td>\n",
       "      <td>Dinner</td>\n",
       "      <td>2</td>\n",
       "    </tr>\n",
       "    <tr>\n",
       "      <th>4</th>\n",
       "      <td>24.59</td>\n",
       "      <td>3.61</td>\n",
       "      <td>Female</td>\n",
       "      <td>No</td>\n",
       "      <td>Sun</td>\n",
       "      <td>Dinner</td>\n",
       "      <td>4</td>\n",
       "    </tr>\n",
       "  </tbody>\n",
       "</table>\n",
       "</div>"
      ],
      "text/plain": [
       "   total_bill   tip     sex smoker  day    time  size\n",
       "0       16.99  1.01  Female     No  Sun  Dinner     2\n",
       "1       10.34  1.66    Male     No  Sun  Dinner     3\n",
       "2       21.01  3.50    Male     No  Sun  Dinner     3\n",
       "3       23.68  3.31    Male     No  Sun  Dinner     2\n",
       "4       24.59  3.61  Female     No  Sun  Dinner     4"
      ]
     },
     "execution_count": 7,
     "metadata": {},
     "output_type": "execute_result"
    }
   ],
   "source": [
    "import seaborn as sns\n",
    "tips= sns.load_dataset(\"tips\")\n",
    "df=tips.copy()\n",
    "df.head()\n"
   ]
  },
  {
   "cell_type": "code",
   "execution_count": 8,
   "id": "3bed6223-4699-47ad-a786-e00832dff527",
   "metadata": {
    "tags": []
   },
   "outputs": [
    {
     "data": {
      "text/html": [
       "<div>\n",
       "<style scoped>\n",
       "    .dataframe tbody tr th:only-of-type {\n",
       "        vertical-align: middle;\n",
       "    }\n",
       "\n",
       "    .dataframe tbody tr th {\n",
       "        vertical-align: top;\n",
       "    }\n",
       "\n",
       "    .dataframe thead th {\n",
       "        text-align: right;\n",
       "    }\n",
       "</style>\n",
       "<table border=\"1\" class=\"dataframe\">\n",
       "  <thead>\n",
       "    <tr style=\"text-align: right;\">\n",
       "      <th></th>\n",
       "      <th>count</th>\n",
       "      <th>mean</th>\n",
       "      <th>std</th>\n",
       "      <th>min</th>\n",
       "      <th>25%</th>\n",
       "      <th>50%</th>\n",
       "      <th>75%</th>\n",
       "      <th>max</th>\n",
       "    </tr>\n",
       "  </thead>\n",
       "  <tbody>\n",
       "    <tr>\n",
       "      <th>total_bill</th>\n",
       "      <td>244.0</td>\n",
       "      <td>19.785943</td>\n",
       "      <td>8.902412</td>\n",
       "      <td>3.07</td>\n",
       "      <td>13.3475</td>\n",
       "      <td>17.795</td>\n",
       "      <td>24.1275</td>\n",
       "      <td>50.81</td>\n",
       "    </tr>\n",
       "    <tr>\n",
       "      <th>tip</th>\n",
       "      <td>244.0</td>\n",
       "      <td>2.998279</td>\n",
       "      <td>1.383638</td>\n",
       "      <td>1.00</td>\n",
       "      <td>2.0000</td>\n",
       "      <td>2.900</td>\n",
       "      <td>3.5625</td>\n",
       "      <td>10.00</td>\n",
       "    </tr>\n",
       "    <tr>\n",
       "      <th>size</th>\n",
       "      <td>244.0</td>\n",
       "      <td>2.569672</td>\n",
       "      <td>0.951100</td>\n",
       "      <td>1.00</td>\n",
       "      <td>2.0000</td>\n",
       "      <td>2.000</td>\n",
       "      <td>3.0000</td>\n",
       "      <td>6.00</td>\n",
       "    </tr>\n",
       "  </tbody>\n",
       "</table>\n",
       "</div>"
      ],
      "text/plain": [
       "            count       mean       std   min      25%     50%      75%    max\n",
       "total_bill  244.0  19.785943  8.902412  3.07  13.3475  17.795  24.1275  50.81\n",
       "tip         244.0   2.998279  1.383638  1.00   2.0000   2.900   3.5625  10.00\n",
       "size        244.0   2.569672  0.951100  1.00   2.0000   2.000   3.0000   6.00"
      ]
     },
     "execution_count": 8,
     "metadata": {},
     "output_type": "execute_result"
    }
   ],
   "source": [
    "df.describe().T"
   ]
  },
  {
   "cell_type": "code",
   "execution_count": 9,
   "id": "ab0ff00e-e5ee-4d39-86cd-a0f856fdd03d",
   "metadata": {
    "tags": []
   },
   "outputs": [
    {
     "name": "stdout",
     "output_type": "stream",
     "text": [
      "Requirement already satisfied: researchpy in c:\\users\\lenovo\\anaconda3\\lib\\site-packages (0.3.5)\n",
      "Requirement already satisfied: scipy in c:\\users\\lenovo\\anaconda3\\lib\\site-packages (from researchpy) (1.11.3)\n",
      "Requirement already satisfied: numpy in c:\\users\\lenovo\\anaconda3\\lib\\site-packages (from researchpy) (1.24.3)\n",
      "Requirement already satisfied: pandas in c:\\users\\lenovo\\anaconda3\\lib\\site-packages (from researchpy) (2.1.3)\n",
      "Requirement already satisfied: statsmodels in c:\\users\\lenovo\\anaconda3\\lib\\site-packages (from researchpy) (0.14.0)\n",
      "Requirement already satisfied: patsy in c:\\users\\lenovo\\anaconda3\\lib\\site-packages (from researchpy) (0.5.3)\n",
      "Requirement already satisfied: python-dateutil>=2.8.2 in c:\\users\\lenovo\\anaconda3\\lib\\site-packages (from pandas->researchpy) (2.8.2)\n",
      "Requirement already satisfied: pytz>=2020.1 in c:\\users\\lenovo\\anaconda3\\lib\\site-packages (from pandas->researchpy) (2023.3.post1)\n",
      "Requirement already satisfied: tzdata>=2022.1 in c:\\users\\lenovo\\anaconda3\\lib\\site-packages (from pandas->researchpy) (2023.3)\n",
      "Requirement already satisfied: six in c:\\users\\lenovo\\anaconda3\\lib\\site-packages (from patsy->researchpy) (1.16.0)\n",
      "Requirement already satisfied: packaging>=21.3 in c:\\users\\lenovo\\anaconda3\\lib\\site-packages (from statsmodels->researchpy) (23.1)\n"
     ]
    }
   ],
   "source": [
    "!pip install --upgrade researchpy\n",
    "import researchpy as rp"
   ]
  },
  {
   "cell_type": "code",
   "execution_count": 10,
   "id": "67c35be8-757c-4a9f-b38b-3e97dad800b2",
   "metadata": {
    "tags": []
   },
   "outputs": [
    {
     "data": {
      "text/html": [
       "<div>\n",
       "<style scoped>\n",
       "    .dataframe tbody tr th:only-of-type {\n",
       "        vertical-align: middle;\n",
       "    }\n",
       "\n",
       "    .dataframe tbody tr th {\n",
       "        vertical-align: top;\n",
       "    }\n",
       "\n",
       "    .dataframe thead th {\n",
       "        text-align: right;\n",
       "    }\n",
       "</style>\n",
       "<table border=\"1\" class=\"dataframe\">\n",
       "  <thead>\n",
       "    <tr style=\"text-align: right;\">\n",
       "      <th></th>\n",
       "      <th>Name</th>\n",
       "      <th>N</th>\n",
       "      <th>Mean</th>\n",
       "      <th>Median</th>\n",
       "      <th>Variance</th>\n",
       "      <th>SD</th>\n",
       "      <th>SE</th>\n",
       "      <th>95% Conf. Interval</th>\n",
       "    </tr>\n",
       "  </thead>\n",
       "  <tbody>\n",
       "    <tr>\n",
       "      <th>0</th>\n",
       "      <td>total_bill</td>\n",
       "      <td>244</td>\n",
       "      <td>19.7859</td>\n",
       "      <td>17.795</td>\n",
       "      <td>79.2529</td>\n",
       "      <td>8.9024</td>\n",
       "      <td>0.5699</td>\n",
       "      <td>total_bill</td>\n",
       "    </tr>\n",
       "    <tr>\n",
       "      <th>1</th>\n",
       "      <td>tip</td>\n",
       "      <td>244</td>\n",
       "      <td>2.9983</td>\n",
       "      <td>2.9</td>\n",
       "      <td>1.9145</td>\n",
       "      <td>1.3836</td>\n",
       "      <td>0.0886</td>\n",
       "      <td>tip</td>\n",
       "    </tr>\n",
       "    <tr>\n",
       "      <th>2</th>\n",
       "      <td>size</td>\n",
       "      <td>244</td>\n",
       "      <td>2.5697</td>\n",
       "      <td>2.0</td>\n",
       "      <td>0.9046</td>\n",
       "      <td>0.9511</td>\n",
       "      <td>0.0609</td>\n",
       "      <td>size</td>\n",
       "    </tr>\n",
       "  </tbody>\n",
       "</table>\n",
       "</div>"
      ],
      "text/plain": [
       "         Name    N     Mean  Median Variance      SD      SE  \\\n",
       "0  total_bill  244  19.7859  17.795  79.2529  8.9024  0.5699   \n",
       "1         tip  244   2.9983     2.9   1.9145  1.3836  0.0886   \n",
       "2        size  244   2.5697     2.0   0.9046  0.9511  0.0609   \n",
       "\n",
       "  95% Conf. Interval  \n",
       "0         total_bill  \n",
       "1                tip  \n",
       "2               size  "
      ]
     },
     "execution_count": 10,
     "metadata": {},
     "output_type": "execute_result"
    }
   ],
   "source": [
    "rp.summarize(df[[\"total_bill\",\"tip\",\"size\"]])"
   ]
  },
  {
   "cell_type": "code",
   "execution_count": 11,
   "id": "49f5b482-e3f4-40bc-8a72-fa4f7b77ca6c",
   "metadata": {
    "tags": []
   },
   "outputs": [],
   "source": [
    "#Kütüphaneden dolayı çalışmıyor\n",
    "#df[['sex', 'smoker', 'day']] = df[['sex', 'smoker', 'day']].astype(str)\n",
    "#rp.summary_cat(df[['sex', 'smoker', 'day']])"
   ]
  },
  {
   "cell_type": "code",
   "execution_count": 12,
   "id": "debce88c-383f-4f07-be6a-50451c2fcc9c",
   "metadata": {
    "tags": []
   },
   "outputs": [
    {
     "data": {
      "text/html": [
       "<div>\n",
       "<style scoped>\n",
       "    .dataframe tbody tr th:only-of-type {\n",
       "        vertical-align: middle;\n",
       "    }\n",
       "\n",
       "    .dataframe tbody tr th {\n",
       "        vertical-align: top;\n",
       "    }\n",
       "\n",
       "    .dataframe thead th {\n",
       "        text-align: right;\n",
       "    }\n",
       "</style>\n",
       "<table border=\"1\" class=\"dataframe\">\n",
       "  <thead>\n",
       "    <tr style=\"text-align: right;\">\n",
       "      <th></th>\n",
       "      <th>total_bill</th>\n",
       "      <th>tip</th>\n",
       "    </tr>\n",
       "  </thead>\n",
       "  <tbody>\n",
       "    <tr>\n",
       "      <th>total_bill</th>\n",
       "      <td>79.252939</td>\n",
       "      <td>8.323502</td>\n",
       "    </tr>\n",
       "    <tr>\n",
       "      <th>tip</th>\n",
       "      <td>8.323502</td>\n",
       "      <td>1.914455</td>\n",
       "    </tr>\n",
       "  </tbody>\n",
       "</table>\n",
       "</div>"
      ],
      "text/plain": [
       "            total_bill       tip\n",
       "total_bill   79.252939  8.323502\n",
       "tip           8.323502  1.914455"
      ]
     },
     "execution_count": 12,
     "metadata": {},
     "output_type": "execute_result"
    }
   ],
   "source": [
    "#kovaryans\n",
    "df[[\"total_bill\",\"tip\"]].cov()"
   ]
  },
  {
   "cell_type": "code",
   "execution_count": 13,
   "id": "50c447ce-009b-49d2-b696-9f5c8ce67a19",
   "metadata": {
    "tags": []
   },
   "outputs": [
    {
     "data": {
      "text/html": [
       "<div>\n",
       "<style scoped>\n",
       "    .dataframe tbody tr th:only-of-type {\n",
       "        vertical-align: middle;\n",
       "    }\n",
       "\n",
       "    .dataframe tbody tr th {\n",
       "        vertical-align: top;\n",
       "    }\n",
       "\n",
       "    .dataframe thead th {\n",
       "        text-align: right;\n",
       "    }\n",
       "</style>\n",
       "<table border=\"1\" class=\"dataframe\">\n",
       "  <thead>\n",
       "    <tr style=\"text-align: right;\">\n",
       "      <th></th>\n",
       "      <th>total_bill</th>\n",
       "      <th>tip</th>\n",
       "    </tr>\n",
       "  </thead>\n",
       "  <tbody>\n",
       "    <tr>\n",
       "      <th>total_bill</th>\n",
       "      <td>1.000000</td>\n",
       "      <td>0.675734</td>\n",
       "    </tr>\n",
       "    <tr>\n",
       "      <th>tip</th>\n",
       "      <td>0.675734</td>\n",
       "      <td>1.000000</td>\n",
       "    </tr>\n",
       "  </tbody>\n",
       "</table>\n",
       "</div>"
      ],
      "text/plain": [
       "            total_bill       tip\n",
       "total_bill    1.000000  0.675734\n",
       "tip           0.675734  1.000000"
      ]
     },
     "execution_count": 13,
     "metadata": {},
     "output_type": "execute_result"
    }
   ],
   "source": [
    "#Korelasyon \n",
    "df[[\"total_bill\",\"tip\"]].corr()"
   ]
  },
  {
   "cell_type": "markdown",
   "id": "905518f1-9710-409e-bdea-1c1d185aa4c3",
   "metadata": {
    "jp-MarkdownHeadingCollapsed": true,
    "tags": []
   },
   "source": [
    "## <font color=\"red\">Confidence Interval</font>"
   ]
  },
  {
   "cell_type": "code",
   "execution_count": 14,
   "id": "5f82018a-b0f5-4acb-a08b-f11713b4afff",
   "metadata": {
    "tags": []
   },
   "outputs": [],
   "source": [
    "import numpy as np \n",
    "prices=np.random.randint(10,110,1000)"
   ]
  },
  {
   "cell_type": "code",
   "execution_count": 15,
   "id": "cb8ed3f8-4658-4295-8561-27a99f2e44f3",
   "metadata": {
    "tags": []
   },
   "outputs": [
    {
     "data": {
      "text/plain": [
       "58.492"
      ]
     },
     "execution_count": 15,
     "metadata": {},
     "output_type": "execute_result"
    }
   ],
   "source": [
    "prices.mean()"
   ]
  },
  {
   "cell_type": "code",
   "execution_count": 16,
   "id": "d3d3480e-ba24-4662-b549-f0a07e342249",
   "metadata": {
    "tags": []
   },
   "outputs": [
    {
     "data": {
      "text/plain": [
       "(56.67953887736034, 60.30446112263965)"
      ]
     },
     "execution_count": 16,
     "metadata": {},
     "output_type": "execute_result"
    }
   ],
   "source": [
    "import statsmodels.stats.api as sms\n",
    "sms.DescrStatsW(prices).tconfint_mean()"
   ]
  },
  {
   "cell_type": "markdown",
   "id": "d29c6753-b4cd-4d84-9336-75f18358c3e9",
   "metadata": {
    "jp-MarkdownHeadingCollapsed": true,
    "tags": []
   },
   "source": [
    " ## <font color=\"red\">Probability Distributions</font>"
   ]
  },
  {
   "cell_type": "markdown",
   "id": "0efc2a85-cd02-4ffa-ae66-8792818375fd",
   "metadata": {
    "jp-MarkdownHeadingCollapsed": true,
    "tags": []
   },
   "source": [
    " ### <font color=\"red\">Bernoulli Distribution</font>"
   ]
  },
  {
   "cell_type": "markdown",
   "id": "e1b61e85-859e-4aac-ab68-c92724150400",
   "metadata": {
    "tags": []
   },
   "source": [
    "${\\displaystyle f(k;p)=p^{k}(1-p)^{1-k}\\quad {\\text{for }}k\\in \\{0,1\\}}$\n",
    "\n",
    "\n",
    "${\\displaystyle \\operatorname {E} \\left(X\\right)=p}$\n",
    "\n",
    "$\\operatorname {Var} [X]=pq=p(1-p)$"
   ]
  },
  {
   "cell_type": "code",
   "execution_count": 17,
   "id": "eb2e2e7e-89d8-47d7-99b4-00240aac99a8",
   "metadata": {
    "tags": []
   },
   "outputs": [],
   "source": [
    "from scipy.stats import bernoulli"
   ]
  },
  {
   "cell_type": "code",
   "execution_count": 18,
   "id": "27d6e7c1-155b-4df9-af9d-e02ac5b07085",
   "metadata": {
    "tags": []
   },
   "outputs": [],
   "source": [
    "p=0.6"
   ]
  },
  {
   "cell_type": "code",
   "execution_count": 19,
   "id": "6072f2f4-1a23-4bff-94af-c3b8e7ad9868",
   "metadata": {
    "tags": []
   },
   "outputs": [
    {
     "data": {
      "text/plain": [
       "(0.6, 0.4000000000000001)"
      ]
     },
     "execution_count": 19,
     "metadata": {},
     "output_type": "execute_result"
    }
   ],
   "source": [
    "rv= bernoulli(p)\n",
    "#olasilik kutle fonk\n",
    "#pmf(aranan deger)\n",
    "rv.pmf(1), rv.pmf(0)"
   ]
  },
  {
   "cell_type": "markdown",
   "id": "f1ef424f-26a1-47c9-9b0a-993a875acc1c",
   "metadata": {
    "jp-MarkdownHeadingCollapsed": true,
    "tags": []
   },
   "source": [
    " ### <font color=\"red\">Law of Large Numbers </font>"
   ]
  },
  {
   "cell_type": "markdown",
   "id": "6a7b408c-7b1f-4da5-96e5-e7da50e448c6",
   "metadata": {},
   "source": [
    "**Bir rassal değişkenin uzun vadeli kararlılığını tanımlayan olasılık teoremidir.**"
   ]
  },
  {
   "cell_type": "code",
   "execution_count": 20,
   "id": "83eba084-df3b-4951-9559-b29964433292",
   "metadata": {
    "tags": []
   },
   "outputs": [
    {
     "name": "stdout",
     "output_type": "stream",
     "text": [
      "Atış Sayısı:  2 ---- Yazı Olasılığı: 50.00\n",
      "Atış Sayısı:  4 ---- Yazı Olasılığı: 0.00\n",
      "Atış Sayısı:  8 ---- Yazı Olasılığı: 62.50\n",
      "Atış Sayısı:  16 ---- Yazı Olasılığı: 43.75\n",
      "Atış Sayısı:  32 ---- Yazı Olasılığı: 46.88\n",
      "Atış Sayısı:  64 ---- Yazı Olasılığı: 56.25\n",
      "Atış Sayısı:  128 ---- Yazı Olasılığı: 50.78\n",
      "Atış Sayısı:  256 ---- Yazı Olasılığı: 52.73\n",
      "Atış Sayısı:  512 ---- Yazı Olasılığı: 52.93\n",
      "Atış Sayısı:  1024 ---- Yazı Olasılığı: 50.20\n",
      "Atış Sayısı:  2048 ---- Yazı Olasılığı: 48.58\n",
      "Atış Sayısı:  4096 ---- Yazı Olasılığı: 49.49\n",
      "Atış Sayısı:  8192 ---- Yazı Olasılığı: 49.58\n",
      "Atış Sayısı:  16384 ---- Yazı Olasılığı: 49.96\n",
      "Atış Sayısı:  32768 ---- Yazı Olasılığı: 50.00\n",
      "Atış Sayısı:  65536 ---- Yazı Olasılığı: 49.68\n",
      "Atış Sayısı:  131072 ---- Yazı Olasılığı: 49.97\n",
      "Atış Sayısı:  262144 ---- Yazı Olasılığı: 50.13\n",
      "Atış Sayısı:  524288 ---- Yazı Olasılığı: 50.01\n",
      "Atış Sayısı:  1048576 ---- Yazı Olasılığı: 50.09\n"
     ]
    }
   ],
   "source": [
    "import numpy as np \n",
    "rng=np.random.RandomState(123)\n",
    "for i in np.arange(1,21):\n",
    "    count=2**i\n",
    "    yazi_turalar=rng.randint(0,2,size=count)\n",
    "    yazi_olasiliklari=np.mean(yazi_turalar)\n",
    "    print(\"Atış Sayısı: \",count,\"---- \"\"Yazı Olasılığı: %.2f\" %(yazi_olasiliklari * 100))"
   ]
  },
  {
   "cell_type": "markdown",
   "id": "1348e3a0-ab63-4763-9f91-76fa2fb4bfdf",
   "metadata": {
    "jp-MarkdownHeadingCollapsed": true,
    "tags": []
   },
   "source": [
    " ### <font color=\"red\">Binomial  Distribution</font>"
   ]
  },
  {
   "cell_type": "markdown",
   "id": "86cea2ae-a160-41cb-b6dd-8729b8d7635c",
   "metadata": {},
   "source": [
    "${\\displaystyle f(k;n,p)={n \\choose k}p^{k}(1-p)^{n-k}}$, k = 0, 1, 2, ...,n\n",
    "\n",
    "\n",
    "${\\displaystyle \\operatorname {E} (X)=np}$\n",
    "\n",
    "\n",
    "${\\displaystyle \\operatorname {Var} (X)=np(1-p)}$\n",
    "\n",
    "n=toplam deger  p=olasilik k=aranan deger"
   ]
  },
  {
   "cell_type": "code",
   "execution_count": 21,
   "id": "ec4f5af4-39d9-4b66-894e-b3bcdc4dfaeb",
   "metadata": {
    "tags": []
   },
   "outputs": [],
   "source": [
    "from scipy.stats import binom"
   ]
  },
  {
   "cell_type": "code",
   "execution_count": 22,
   "id": "df71f2b2-a705-45ee-9073-3ad5e6561dd3",
   "metadata": {
    "tags": []
   },
   "outputs": [
    {
     "name": "stdout",
     "output_type": "stream",
     "text": [
      "0.36972963764972666\n",
      "0.002897787123761478\n",
      "7.006035693977194e-08\n"
     ]
    }
   ],
   "source": [
    "p=0.01\n",
    "n=100\n",
    "rv=binom(n,p)\n",
    "print(rv.pmf(1))\n",
    "print(rv.pmf(5))\n",
    "print(rv.pmf(10))"
   ]
  },
  {
   "cell_type": "markdown",
   "id": "2d0f7a6b-e218-47ab-a053-0b165de2b104",
   "metadata": {
    "jp-MarkdownHeadingCollapsed": true,
    "tags": []
   },
   "source": [
    " ### <font color=\"red\">Possion Distribution</font>\n",
    "${\\displaystyle f(x,\\lambda )={\\frac {\\lambda ^{x}e^{-\\lambda }}{x!}}\\,\\!}$,  x = 0,1,2,...,n"
   ]
  },
  {
   "cell_type": "code",
   "execution_count": 23,
   "id": "ac59407d-b729-4d7d-a278-2304efffe26d",
   "metadata": {
    "tags": []
   },
   "outputs": [],
   "source": [
    "from scipy.stats import poisson"
   ]
  },
  {
   "cell_type": "code",
   "execution_count": 24,
   "id": "5e1ba9cb-98fd-4486-b866-828a6aef377f",
   "metadata": {
    "tags": []
   },
   "outputs": [],
   "source": [
    "lambda_=0.1"
   ]
  },
  {
   "cell_type": "code",
   "execution_count": 25,
   "id": "50ae7d11-76ae-4f5d-b75b-3863d7c49abd",
   "metadata": {
    "tags": []
   },
   "outputs": [
    {
     "name": "stdout",
     "output_type": "stream",
     "text": [
      "0.9048374180359595\n",
      "0.00015080623633932676\n",
      "7.54031181696634e-08\n"
     ]
    }
   ],
   "source": [
    "rv=poisson(mu=lambda_)\n",
    "#pmf(hata degeri)\n",
    "print(rv.pmf(0))\n",
    "print(rv.pmf(3))\n",
    "print(rv.pmf(5))"
   ]
  },
  {
   "cell_type": "markdown",
   "id": "ee842116-c11c-448a-95ca-c6d5f174acae",
   "metadata": {
    "jp-MarkdownHeadingCollapsed": true,
    "tags": []
   },
   "source": [
    "### <font color=\"red\">Normal Distribution</font>"
   ]
  },
  {
   "cell_type": "markdown",
   "id": "46e9e624-edcb-4219-9076-9d929d9b06e4",
   "metadata": {},
   "source": [
    "${\\displaystyle f(x\\mid \\mu ,\\sigma ^{2})={\\frac {1}{\\sqrt {2\\pi \\sigma ^{2}}}}e^{-{\\frac {(x-\\mu )^{2}}{2\\sigma ^{2}}}}}$\n",
    "\n",
    "* $\\mu$  ortalama ya da dağılımın beklenen değeri\n",
    "\n",
    "* ${\\displaystyle \\sigma }$  standart sapma\n",
    "\n",
    "* ${\\displaystyle \\sigma ^{2}}$ varyans"
   ]
  },
  {
   "cell_type": "code",
   "execution_count": 26,
   "id": "a0cd27d5-e270-48cf-a6f4-7283346b7326",
   "metadata": {
    "tags": []
   },
   "outputs": [],
   "source": [
    "from scipy.stats import norm"
   ]
  },
  {
   "cell_type": "code",
   "execution_count": 27,
   "id": "144fb975-58b6-465c-b2dd-045003ece8c0",
   "metadata": {
    "tags": []
   },
   "outputs": [
    {
     "data": {
      "text/plain": [
       "0.02275013194817921"
      ]
     },
     "execution_count": 27,
     "metadata": {},
     "output_type": "execute_result"
    }
   ],
   "source": [
    "#kumulatif yogunluk fonksiyonu\n",
    "#90 dan fazla olma olasiligi\n",
    "1-norm.cdf(90,80,5)#cdf(istedigimiz deger,ortalama,std)"
   ]
  },
  {
   "cell_type": "code",
   "execution_count": 28,
   "id": "cff9a633-a00f-46bf-8179-baff8134ce51",
   "metadata": {
    "tags": []
   },
   "outputs": [
    {
     "data": {
      "text/plain": [
       "0.9772498680518208"
      ]
     },
     "execution_count": 28,
     "metadata": {},
     "output_type": "execute_result"
    }
   ],
   "source": [
    "#70 dan fazla olma olasiligi\n",
    "1-norm.cdf(70,80,5)"
   ]
  },
  {
   "cell_type": "code",
   "execution_count": 29,
   "id": "7703ceac-04f8-466f-ba1f-d3d83891a068",
   "metadata": {
    "tags": []
   },
   "outputs": [
    {
     "data": {
      "text/plain": [
       "0.08075665923377107"
      ]
     },
     "execution_count": 29,
     "metadata": {},
     "output_type": "execute_result"
    }
   ],
   "source": [
    "#73 dan fazla olma olasiligi\n",
    "norm.cdf(73,80,5)"
   ]
  },
  {
   "cell_type": "code",
   "execution_count": 30,
   "id": "ad78960a-48d2-4f69-8e99-78eff729a39c",
   "metadata": {
    "tags": []
   },
   "outputs": [
    {
     "data": {
      "text/plain": [
       "0.13590512198327787"
      ]
     },
     "execution_count": 30,
     "metadata": {},
     "output_type": "execute_result"
    }
   ],
   "source": [
    "#85 ile 90 olma olasiligi\n",
    "norm.cdf(90,80,5)-norm.cdf(85,80,5)"
   ]
  },
  {
   "cell_type": "markdown",
   "id": "275cd707-29b4-4978-9aee-267b4752f71d",
   "metadata": {
    "jp-MarkdownHeadingCollapsed": true,
    "tags": []
   },
   "source": [
    "## <font color=\"red\">Tek Örneklem T Testi</font>\n"
   ]
  },
  {
   "cell_type": "markdown",
   "id": "f96991e5-63d4-4a31-b096-eaba5b32092f",
   "metadata": {},
   "source": [
    "Örnek ortalamasına ilişkin test yapmak için kullanılır.\n",
    "\n",
    "**Hipotezler:**\n",
    "\n",
    "<d><i>H</i><sub>0</sub>: <i>μ</i> = <i>170</i></d>   \n",
    "<d><i>H</i><sub>1</sub>: <i>μ</i> ≠ <i>170</i></d><br><br>\n",
    "\n",
    "<d><i>H</i><sub>0</sub>: <i>μ</i> <= <i>50</i></d><br>\n",
    "<d><i>H</i><sub>1</sub>: <i>μ</i> > <i>50</i></d><br><br>\n",
    "\n",
    "<d><i>H</i><sub>0</sub>: <i>μ</i> >= <i>50</i></d><br>\n",
    "<d><i>H</i><sub>1</sub>: <i>μ</i> < <i>50</i></d><br><br>\n",
    "\n",
    "\n",
    "\n",
    "\n",
    "<table></table>\n",
    "\n",
    "**Test İstatistiği:**\n",
    "\n",
    "${\\displaystyle t={\\frac {{\\bar {x}}-\\mu _{0}}{\\frac {s}{\\sqrt {n}}}}}$\n"
   ]
  },
  {
   "cell_type": "code",
   "execution_count": 31,
   "id": "e7cb4843-21b0-489f-9b9a-c52cddfbe622",
   "metadata": {
    "tags": []
   },
   "outputs": [],
   "source": [
    "import numpy as np\n",
    "import pandas as pd\n",
    "\n",
    "olcumler = np.array([17, 160, 234, 149, 145, 107, 197, 75, 201, 225, 211, 119, \n",
    "              157, 145, 127, 244, 163, 114, 145,  65, 112, 185, 202, 146,\n",
    "              203, 224, 203, 114, 188, 156, 187, 154, 177, 95, 165, 50, 110, \n",
    "              216, 138, 151, 166, 135, 155, 84, 251, 173, 131, 207, 121, 120])"
   ]
  },
  {
   "cell_type": "code",
   "execution_count": 32,
   "id": "cfb76aa5-0870-454c-832f-f0dbe654668f",
   "metadata": {
    "tags": []
   },
   "outputs": [],
   "source": [
    "import scipy.stats as stats"
   ]
  },
  {
   "cell_type": "code",
   "execution_count": 33,
   "id": "31646332-a474-4039-9d05-fd15139b3d59",
   "metadata": {
    "tags": []
   },
   "outputs": [
    {
     "data": {
      "text/plain": [
       "DescribeResult(nobs=50, minmax=(17, 251), mean=154.38, variance=2578.0363265306123, skewness=-0.32398897278694483, kurtosis=-0.05849823498415985)"
      ]
     },
     "execution_count": 33,
     "metadata": {},
     "output_type": "execute_result"
    }
   ],
   "source": [
    "stats.describe(olcumler)"
   ]
  },
  {
   "cell_type": "markdown",
   "id": "0001cec2-4a34-4d2d-aca5-35435e0f6a59",
   "metadata": {
    "tags": []
   },
   "source": [
    "### <font color=red>Varsayimlar</font>"
   ]
  },
  {
   "cell_type": "code",
   "execution_count": 34,
   "id": "9495a36d-7c20-4cff-bb5d-9dc34dfdf25e",
   "metadata": {
    "tags": []
   },
   "outputs": [
    {
     "data": {
      "image/png": "[encoded data removed]",
      "text/plain": [
       "<Figure size 640x480 with 1 Axes>"
      ]
     },
     "metadata": {},
     "output_type": "display_data"
    }
   ],
   "source": [
    "# normallik varsayimi \n",
    "#histogram\n",
    "pd.DataFrame(olcumler).plot.hist();"
   ]
  },
  {
   "cell_type": "code",
   "execution_count": 35,
   "id": "fc5324e3-7c3b-4a4e-ab04-98e6279d965a",
   "metadata": {
    "tags": []
   },
   "outputs": [
    {
     "data": {
      "image/png": "[encoded data removed]",
      "text/plain": [
       "<Figure size 640x480 with 1 Axes>"
      ]
     },
     "metadata": {},
     "output_type": "display_data"
    }
   ],
   "source": [
    "#qqplot\n",
    "import pylab \n",
    "stats.probplot(olcumler,dist=\"norm\",plot=pylab)\n",
    "pylab.show()"
   ]
  },
  {
   "cell_type": "markdown",
   "id": "bc90e02d-d714-4cf7-afc1-01e3d91911c9",
   "metadata": {
    "tags": []
   },
   "source": [
    "### <font color=\"red\">Shapiro Wilks Testi</font>"
   ]
  },
  {
   "cell_type": "code",
   "execution_count": 36,
   "id": "0d4e2e69-5633-4238-8462-606c8efe9bb4",
   "metadata": {
    "tags": []
   },
   "outputs": [],
   "source": [
    "# H0 örnek dağılım ile teorik dağılım arasında bir farklılık yoktur\n",
    "# H1 fark vardır\n",
    "#H0 reddedilmemeli"
   ]
  },
  {
   "cell_type": "code",
   "execution_count": 37,
   "id": "25019446-7929-425d-a384-c12fb62e4df8",
   "metadata": {
    "tags": []
   },
   "outputs": [
    {
     "data": {
      "text/plain": [
       "ShapiroResult(statistic=0.9853101372718811, pvalue=0.7848551869392395)"
      ]
     },
     "execution_count": 37,
     "metadata": {},
     "output_type": "execute_result"
    }
   ],
   "source": [
    "from scipy.stats import shapiro\n",
    "shapiro(olcumler)"
   ]
  },
  {
   "cell_type": "code",
   "execution_count": 38,
   "id": "91a1d91d-0c77-4a27-8f43-1b7fab309eeb",
   "metadata": {
    "tags": []
   },
   "outputs": [],
   "source": [
    "# pvalue=0.7848551869392395 değeri 0.05 den küçük olmadığı için reddemeyiz yani farklılık yoktur"
   ]
  },
  {
   "cell_type": "markdown",
   "id": "f40ffabb-d80a-45f7-a35d-329698d25e1c",
   "metadata": {
    "tags": []
   },
   "source": [
    "###   <font color=\"red\">Tek örneklem T testi gerçekleştirme ( varsayımlarımız doğru çıktı)</font>"
   ]
  },
  {
   "cell_type": "code",
   "execution_count": 39,
   "id": "e6c53f4b-f7a2-4ead-86ca-44f973c990d3",
   "metadata": {
    "tags": []
   },
   "outputs": [
    {
     "data": {
      "text/plain": [
       "TtestResult(statistic=-2.1753117985877966, pvalue=0.034460415195071446, df=49)"
      ]
     },
     "execution_count": 39,
     "metadata": {},
     "output_type": "execute_result"
    }
   ],
   "source": [
    "stats.ttest_1samp(olcumler,popmean=170)"
   ]
  },
  {
   "cell_type": "code",
   "execution_count": 40,
   "id": "67f3e41d-44b4-4ef1-aed2-00de0df6e05c",
   "metadata": {
    "tags": []
   },
   "outputs": [],
   "source": [
    "# pvalue=0.034460415195071446 p<0.05 bundan dolayi H0 reddedilir çünkü p value 0.05 den küçük ,\n",
    "#yani web sitesinde geçirilen süre 170 den küçüktür"
   ]
  },
  {
   "cell_type": "markdown",
   "id": "1a36850b-3b65-4a9c-b671-36a1c617b1dc",
   "metadata": {
    "tags": []
   },
   "source": [
    "### <font color=red>Nonparametrik Tek Örneklem Testi</font>"
   ]
  },
  {
   "cell_type": "code",
   "execution_count": 41,
   "id": "74a71065-8915-481f-a0cf-4730e5d179e6",
   "metadata": {
    "tags": []
   },
   "outputs": [],
   "source": [
    "# varsayimlarim saglanmazsa kullanilir\n",
    "from statsmodels.stats.descriptivestats import sign_test"
   ]
  },
  {
   "cell_type": "code",
   "execution_count": 42,
   "id": "e3584f58-dec3-40d3-8a52-519331858a94",
   "metadata": {
    "tags": []
   },
   "outputs": [
    {
     "data": {
      "text/plain": [
       "(-7.0, 0.06490864707227217)"
      ]
     },
     "execution_count": 42,
     "metadata": {},
     "output_type": "execute_result"
    }
   ],
   "source": [
    "sign_test(olcumler,170)"
   ]
  },
  {
   "cell_type": "markdown",
   "id": "ec083bca-30e0-488a-8be8-6050b59f7cc3",
   "metadata": {
    "jp-MarkdownHeadingCollapsed": true,
    "tags": []
   },
   "source": [
    "## <font color=\"red\">Tek Örneklem Oran Testi</font>"
   ]
  },
  {
   "cell_type": "markdown",
   "id": "6206c77a-b51f-475b-850a-eb6e25563068",
   "metadata": {
    "tags": []
   },
   "source": [
    "HO: p = 0.125 \n",
    "\n",
    "H1: p != 0.125"
   ]
  },
  {
   "cell_type": "code",
   "execution_count": 43,
   "id": "0d056a95-cc58-401b-9597-663600fa9577",
   "metadata": {
    "tags": []
   },
   "outputs": [],
   "source": [
    "from statsmodels.stats.proportion import proportions_ztest"
   ]
  },
  {
   "cell_type": "code",
   "execution_count": 44,
   "id": "20a3e2e3-61db-4bb5-b844-6d25a6bf342d",
   "metadata": {
    "tags": []
   },
   "outputs": [],
   "source": [
    "count=40#basari sayisi\n",
    "nobs=500 #gozlem sayisi\n",
    "value=0.125"
   ]
  },
  {
   "cell_type": "code",
   "execution_count": 45,
   "id": "d42a14cf-418a-4f6f-8f77-29261f09e831",
   "metadata": {
    "tags": []
   },
   "outputs": [
    {
     "data": {
      "text/plain": [
       "(-3.7090151628513017, 0.0002080669689845979)"
      ]
     },
     "execution_count": 45,
     "metadata": {},
     "output_type": "execute_result"
    }
   ],
   "source": [
    "proportions_ztest(count,nobs,value)"
   ]
  },
  {
   "cell_type": "markdown",
   "id": "86cbe220-1a19-490d-a332-ee7a6b8812b5",
   "metadata": {
    "jp-MarkdownHeadingCollapsed": true,
    "tags": []
   },
   "source": [
    "## <font color=\"red\">Bağımsız İki Örneklem T Testi(AB TESTİ)</font>"
   ]
  },
  {
   "cell_type": "markdown",
   "id": "e5764110-a0dc-49b6-a09a-53f788dc25a4",
   "metadata": {},
   "source": [
    "H0: M1 = M2 eski sistem ve yeni sistem sistem geliri aynı mı ? \n",
    "\n",
    "H1: M1 != M2"
   ]
  },
  {
   "cell_type": "code",
   "execution_count": 46,
   "id": "6f0ddfc8-4eab-4a5e-9944-e2eb3719d95d",
   "metadata": {},
   "outputs": [],
   "source": [
    "#VERI TIPI I"
   ]
  },
  {
   "cell_type": "code",
   "execution_count": 47,
   "id": "c43c80ac-fa88-446a-9fef-5c1609e1cbde",
   "metadata": {
    "tags": []
   },
   "outputs": [
    {
     "data": {
      "text/html": [
       "<div>\n",
       "<style scoped>\n",
       "    .dataframe tbody tr th:only-of-type {\n",
       "        vertical-align: middle;\n",
       "    }\n",
       "\n",
       "    .dataframe tbody tr th {\n",
       "        vertical-align: top;\n",
       "    }\n",
       "\n",
       "    .dataframe thead th {\n",
       "        text-align: right;\n",
       "    }\n",
       "</style>\n",
       "<table border=\"1\" class=\"dataframe\">\n",
       "  <thead>\n",
       "    <tr style=\"text-align: right;\">\n",
       "      <th></th>\n",
       "      <th>A</th>\n",
       "      <th>B</th>\n",
       "    </tr>\n",
       "  </thead>\n",
       "  <tbody>\n",
       "    <tr>\n",
       "      <th>0</th>\n",
       "      <td>30</td>\n",
       "      <td>37</td>\n",
       "    </tr>\n",
       "    <tr>\n",
       "      <th>1</th>\n",
       "      <td>27</td>\n",
       "      <td>39</td>\n",
       "    </tr>\n",
       "    <tr>\n",
       "      <th>2</th>\n",
       "      <td>21</td>\n",
       "      <td>31</td>\n",
       "    </tr>\n",
       "    <tr>\n",
       "      <th>3</th>\n",
       "      <td>27</td>\n",
       "      <td>31</td>\n",
       "    </tr>\n",
       "    <tr>\n",
       "      <th>4</th>\n",
       "      <td>29</td>\n",
       "      <td>34</td>\n",
       "    </tr>\n",
       "  </tbody>\n",
       "</table>\n",
       "</div>"
      ],
      "text/plain": [
       "    A   B\n",
       "0  30  37\n",
       "1  27  39\n",
       "2  21  31\n",
       "3  27  31\n",
       "4  29  34"
      ]
     },
     "execution_count": 47,
     "metadata": {},
     "output_type": "execute_result"
    }
   ],
   "source": [
    "A = pd.DataFrame([30,27,21,27,29,30,20,20,27,32,35,22,24,23,25,27,23,27,23,\n",
    "        25,21,18,24,26,33,26,27,28,19,25])\n",
    "\n",
    "B = pd.DataFrame([37,39,31,31,34,38,30,36,29,28,38,28,37,37,30,32,31,31,27,\n",
    "        32,33,33,33,31,32,33,26,32,33,29])\n",
    "\n",
    "\n",
    "A_B = pd.concat([A, B], axis = 1)\n",
    "A_B.columns = [\"A\",\"B\"]\n",
    "\n",
    "A_B.head()"
   ]
  },
  {
   "cell_type": "code",
   "execution_count": 48,
   "id": "7112a617-f893-426a-8c09-6f8dfc49d003",
   "metadata": {},
   "outputs": [],
   "source": [
    "#VERI TIPI II"
   ]
  },
  {
   "cell_type": "code",
   "execution_count": 49,
   "id": "c615c7a6-8dc9-4b88-8f64-ef1bf9634669",
   "metadata": {
    "tags": []
   },
   "outputs": [
    {
     "name": "stdout",
     "output_type": "stream",
     "text": [
      "   gelir GRUP\n",
      "0     30    A\n",
      "1     27    A\n",
      "2     21    A\n",
      "3     27    A\n",
      "4     29    A\n",
      "    gelir GRUP\n",
      "25     33    B\n",
      "26     26    B\n",
      "27     32    B\n",
      "28     33    B\n",
      "29     29    B\n"
     ]
    }
   ],
   "source": [
    "A = pd.DataFrame([30,27,21,27,29,30,20,20,27,32,35,22,24,23,25,27,23,27,23,\n",
    "        25,21,18,24,26,33,26,27,28,19,25])\n",
    "\n",
    "B = pd.DataFrame([37,39,31,31,34,38,30,36,29,28,38,28,37,37,30,32,31,31,27,\n",
    "        32,33,33,33,31,32,33,26,32,33,29])\n",
    "\n",
    "#A ve A'nın grubu\n",
    "GRUP_A = np.arange(len(A))\n",
    "GRUP_A = pd.DataFrame(GRUP_A)\n",
    "GRUP_A[:] = \"A\"\n",
    "A = pd.concat([A, GRUP_A], axis = 1)\n",
    "\n",
    "#B ve B'nin Grubu\n",
    "GRUP_B = np.arange(len(B))\n",
    "GRUP_B = pd.DataFrame(GRUP_B)\n",
    "GRUP_B[:] = \"B\"\n",
    "B = pd.concat([B, GRUP_B], axis = 1)\n",
    "\n",
    "#Tum veri\n",
    "AB = pd.concat([A,B])\n",
    "AB.columns = [\"gelir\",\"GRUP\"]\n",
    "print(AB.head())\n",
    "print(AB.tail())"
   ]
  },
  {
   "cell_type": "code",
   "execution_count": 50,
   "id": "bb0d0ad4-5ec9-422e-8e4d-7bdc38bb57de",
   "metadata": {
    "tags": []
   },
   "outputs": [
    {
     "data": {
      "image/png": "[encoded data removed]",
      "text/plain": [
       "<Figure size 640x480 with 1 Axes>"
      ]
     },
     "metadata": {},
     "output_type": "display_data"
    }
   ],
   "source": [
    "import seaborn as sns\n",
    "sns.boxplot(x=\"GRUP\",y=\"gelir\",data=AB);"
   ]
  },
  {
   "cell_type": "markdown",
   "id": "92dac147-795c-4ab7-b214-29a22bffda7d",
   "metadata": {
    "tags": []
   },
   "source": [
    "### <font color=\"red\">Varsayım Kontrolü</font>"
   ]
  },
  {
   "cell_type": "code",
   "execution_count": 51,
   "id": "f51c316a-b7b6-4069-91d3-533ad5beacc4",
   "metadata": {
    "tags": []
   },
   "outputs": [
    {
     "data": {
      "text/plain": [
       "ShapiroResult(statistic=0.9789243936538696, pvalue=0.7962851524353027)"
      ]
     },
     "execution_count": 51,
     "metadata": {},
     "output_type": "execute_result"
    }
   ],
   "source": [
    "#normallik varsayimi\n",
    "from scipy.stats import shapiro\n",
    "shapiro(A_B.A)"
   ]
  },
  {
   "cell_type": "code",
   "execution_count": 52,
   "id": "f2267839-da06-4aec-8650-cc542584031b",
   "metadata": {
    "tags": []
   },
   "outputs": [
    {
     "data": {
      "text/plain": [
       "ShapiroResult(statistic=0.9561262130737305, pvalue=0.24584470689296722)"
      ]
     },
     "execution_count": 52,
     "metadata": {},
     "output_type": "execute_result"
    }
   ],
   "source": [
    "shapiro(A_B.B)"
   ]
  },
  {
   "cell_type": "code",
   "execution_count": 53,
   "id": "1dcc780d-8d9f-41d4-aae8-4f54a05a9210",
   "metadata": {
    "tags": []
   },
   "outputs": [],
   "source": [
    "#varyans homojenligi varsayimi"
   ]
  },
  {
   "cell_type": "markdown",
   "id": "99aadf0a-fbe7-4929-b808-cfe2074bec22",
   "metadata": {},
   "source": [
    "H0: Varyanslar Homojendir\n",
    "\n",
    "H1: Varyanslar Homojen Değildir\n",
    "\n",
    "**farklı gruplardaki veri alt kümelerinin varyanslarının birbirine benzer olması durumunda, varyans homojenliği sağlanmış sayılır.**"
   ]
  },
  {
   "cell_type": "code",
   "execution_count": 54,
   "id": "8befd96b-d093-4b15-9a30-9d37bf5828fe",
   "metadata": {
    "tags": []
   },
   "outputs": [
    {
     "data": {
      "text/plain": [
       "LeveneResult(statistic=1.1101802757158004, pvalue=0.2964124900636569)"
      ]
     },
     "execution_count": 54,
     "metadata": {},
     "output_type": "execute_result"
    }
   ],
   "source": [
    "stats.levene(A_B.A,A_B.B)"
   ]
  },
  {
   "cell_type": "markdown",
   "id": "ff459c7b-7abd-4a61-b19d-2ca4d1ad35e1",
   "metadata": {
    "tags": []
   },
   "source": [
    "###  <font color=\"red\">Bağımsız İki Örneklem T Testi Uygulaması( varsayımlarımız doğru çıktı)</font>"
   ]
  },
  {
   "cell_type": "code",
   "execution_count": 55,
   "id": "e2b5fca5-0886-4793-be7a-1bb9e4197303",
   "metadata": {
    "tags": []
   },
   "outputs": [
    {
     "data": {
      "text/plain": [
       "TtestResult(statistic=-7.028690967745927, pvalue=2.6233215605475075e-09, df=58.0)"
      ]
     },
     "execution_count": 55,
     "metadata": {},
     "output_type": "execute_result"
    }
   ],
   "source": [
    "stats.ttest_ind(A_B[\"A\"],A_B[\"B\"],equal_var=True)"
   ]
  },
  {
   "cell_type": "code",
   "execution_count": 56,
   "id": "53f372dd-cd21-4ad2-aadc-2f0cce11a265",
   "metadata": {
    "tags": []
   },
   "outputs": [
    {
     "name": "stdout",
     "output_type": "stream",
     "text": [
      "Test İstatistiği = -7.0287, p-değeri = 0.0000\n"
     ]
    }
   ],
   "source": [
    "test_istatistigi, pvalue = stats.ttest_ind(A_B[\"A\"], A_B[\"B\"], equal_var=True)\n",
    "print('Test İstatistiği = %.4f, p-değeri = %.4f' % (test_istatistigi, pvalue))"
   ]
  },
  {
   "cell_type": "code",
   "execution_count": 57,
   "id": "4b313747-7939-457e-b43f-e956f0cb1f2a",
   "metadata": {
    "tags": []
   },
   "outputs": [],
   "source": [
    "# h0 reddedilir . eski sistem ile yeni sistem ayni degil"
   ]
  },
  {
   "cell_type": "markdown",
   "id": "b7968e19-020a-443f-964c-202faa106197",
   "metadata": {
    "jp-MarkdownHeadingCollapsed": true,
    "tags": []
   },
   "source": [
    "### <font color=\"red\">Nonparametrik Bağımsız İki Örneklem Testi</font>\\"
   ]
  },
  {
   "cell_type": "code",
   "execution_count": 58,
   "id": "f92e5554-812f-446c-b1f8-7a3d1361684f",
   "metadata": {
    "tags": []
   },
   "outputs": [
    {
     "data": {
      "text/plain": [
       "MannwhitneyuResult(statistic=89.5, pvalue=9.557950378612535e-08)"
      ]
     },
     "execution_count": 58,
     "metadata": {},
     "output_type": "execute_result"
    }
   ],
   "source": [
    "# varsayimlarim saglanmazsa kullanilir\n",
    "stats.mannwhitneyu(A_B[\"A\"],A_B[\"B\"])"
   ]
  },
  {
   "cell_type": "code",
   "execution_count": 59,
   "id": "abde5dd8-6dd0-4ad5-b524-d8e4c887cbf1",
   "metadata": {
    "tags": []
   },
   "outputs": [
    {
     "name": "stdout",
     "output_type": "stream",
     "text": [
      "Test İstatistiği = 89.5000, p-değeri = 0.0000\n"
     ]
    }
   ],
   "source": [
    "test_istatistigi, pvalue = stats.mannwhitneyu(A_B[\"A\"], A_B[\"B\"])\n",
    "print('Test İstatistiği = %.4f, p-değeri = %.4f' % (test_istatistigi, pvalue))"
   ]
  },
  {
   "cell_type": "markdown",
   "id": "54a4ea8d-0602-4b9c-9834-3d0ce60a0970",
   "metadata": {
    "tags": []
   },
   "source": [
    "## <font color=\"red\">Bağımlı İki Örneklem T Testi(AB TESTİ)</font>"
   ]
  },
  {
   "cell_type": "markdown",
   "id": "117568dd-a18f-46d5-8c5b-3cb62b64e0cb",
   "metadata": {},
   "source": [
    "Aynı kitleye iki farklı uygulama yapıldığında ve sonuçlar incelendiğinde bağımlılık söz konusudur\n",
    "\n",
    "Örnek : Şirket içi eğitimin performans etkisi ölçümü \n",
    "\n",
    "H0: öncesi=sonrası\n",
    "\n",
    "H1: öncesı≠sonrası"
   ]
  },
  {
   "cell_type": "code",
   "execution_count": 60,
   "id": "4d8fb874-e73b-4dd3-8546-d3e53a28ae10",
   "metadata": {
    "tags": []
   },
   "outputs": [],
   "source": [
    "oncesi = pd.DataFrame([123,119,119,116,123,123,121,120,117,118,121,121,123,119,\n",
    "            121,118,124,121,125,115,115,119,118,121,117,117,120,120,\n",
    "            121,117,118,117,123,118,124,121,115,118,125,115])\n",
    "\n",
    "sonrasi = pd.DataFrame([118,127,122,132,129,123,129,132,128,130,128,138,140,130,\n",
    "             134,134,124,140,134,129,129,138,134,124,122,126,133,127,\n",
    "             130,130,130,132,117,130,125,129,133,120,127,123])"
   ]
  },
  {
   "cell_type": "code",
   "execution_count": 61,
   "id": "a686186f-35c4-413b-bc8f-25016d909dae",
   "metadata": {
    "tags": []
   },
   "outputs": [
    {
     "name": "stdout",
     "output_type": "stream",
     "text": [
      "'AYRIK' Veri Seti: \n",
      "\n",
      "     ONCESI  SONRASI\n",
      "0     123      118\n",
      "1     119      127\n",
      "2     119      122\n",
      "3     116      132\n",
      "4     123      129 \n",
      "\n",
      "\n",
      "'BIRLIKTE' Veri Seti: \n",
      "\n",
      "    PERFORMANS ONCESI_SONRASI\n",
      "0         123         ONCESI\n",
      "1         119         ONCESI\n",
      "2         119         ONCESI\n",
      "3         116         ONCESI\n",
      "4         123         ONCESI \n",
      "\n"
     ]
    }
   ],
   "source": [
    "#BIRINCI VERI SETI\n",
    "AYRIK = pd.concat([oncesi, sonrasi], axis = 1)\n",
    "AYRIK.columns = [\"ONCESI\",\"SONRASI\"]\n",
    "print(\"'AYRIK' Veri Seti: \\n\\n \", AYRIK.head(), \"\\n\\n\")\n",
    "\n",
    "\n",
    "#IKINCI VERI SETI\n",
    "#ONCESI FLAG/TAG'INI OLUSTURMA\n",
    "GRUP_ONCESI = np.arange(len(oncesi))\n",
    "GRUP_ONCESI = pd.DataFrame(GRUP_ONCESI)\n",
    "GRUP_ONCESI[:] = \"ONCESI\"\n",
    "#FLAG VE ONCESI DEGERLERINI BIR ARAYA GETIRME\n",
    "A = pd.concat([oncesi, GRUP_ONCESI], axis = 1)\n",
    "#SONRASI FLAG/TAG'INI OLUSTURMA\n",
    "GRUP_SONRASI = np.arange(len(sonrasi))\n",
    "GRUP_SONRASI = pd.DataFrame(GRUP_SONRASI)\n",
    "GRUP_SONRASI[:] = \"SONRASI\"\n",
    "\n",
    "#FLAG VE SONRASI DEGERLERINI BIR ARAYA GETIRME\n",
    "B = pd.concat([sonrasi, GRUP_SONRASI], axis = 1)\n",
    "\n",
    "#TUM VERIYI BIR ARAYA GETIRME\n",
    "BIRLIKTE = pd.concat([A,B])\n",
    "BIRLIKTE\n",
    "\n",
    "#ISIMLENDIRME\n",
    "BIRLIKTE.columns = [\"PERFORMANS\",\"ONCESI_SONRASI\"]\n",
    "print(\"'BIRLIKTE' Veri Seti: \\n\\n\", BIRLIKTE.head(), \"\\n\")"
   ]
  },
  {
   "cell_type": "code",
   "execution_count": 62,
   "id": "74c6b2a8-5430-4e2a-aaf3-2cad73cc1bf4",
   "metadata": {
    "tags": []
   },
   "outputs": [
    {
     "data": {
      "image/png": "[encoded data removed]",
      "text/plain": [
       "<Figure size 640x480 with 1 Axes>"
      ]
     },
     "metadata": {},
     "output_type": "display_data"
    }
   ],
   "source": [
    "import seaborn as sns\n",
    "sns.boxplot(x=\"ONCESI_SONRASI\",y=\"PERFORMANS\",data=BIRLIKTE);"
   ]
  },
  {
   "cell_type": "markdown",
   "id": "c8087410-e63c-4200-9946-b69542d73687",
   "metadata": {
    "tags": []
   },
   "source": [
    "### <font color=\"red\">Varsayım Kontrolü</font>"
   ]
  },
  {
   "cell_type": "code",
   "execution_count": 63,
   "id": "17c11bf8-15c7-4a60-8525-ae097f6559d6",
   "metadata": {
    "tags": []
   },
   "outputs": [
    {
     "data": {
      "text/plain": [
       "ShapiroResult(statistic=0.9543651342391968, pvalue=0.10722016543149948)"
      ]
     },
     "execution_count": 63,
     "metadata": {},
     "output_type": "execute_result"
    }
   ],
   "source": [
    "from scipy.stats import shapiro\n",
    "shapiro(AYRIK.ONCESI)"
   ]
  },
  {
   "cell_type": "code",
   "execution_count": 64,
   "id": "9df898da-663e-4e6e-942c-07401f33fc6b",
   "metadata": {
    "tags": []
   },
   "outputs": [
    {
     "data": {
      "text/plain": [
       "ShapiroResult(statistic=0.9780092239379883, pvalue=0.6159630417823792)"
      ]
     },
     "execution_count": 64,
     "metadata": {},
     "output_type": "execute_result"
    }
   ],
   "source": [
    "shapiro(AYRIK.SONRASI)"
   ]
  },
  {
   "cell_type": "code",
   "execution_count": 65,
   "id": "f5771c53-cd1b-41b8-8487-b7641056287f",
   "metadata": {
    "tags": []
   },
   "outputs": [
    {
     "data": {
      "text/plain": [
       "LeveneResult(statistic=8.31303288672351, pvalue=0.0050844511807370246)"
      ]
     },
     "execution_count": 65,
     "metadata": {},
     "output_type": "execute_result"
    }
   ],
   "source": [
    "stats.levene(AYRIK.ONCESI,AYRIK.SONRASI)\n",
    "#varyanslarimiz homojen degil goz ardi edip devam edecegiz"
   ]
  },
  {
   "cell_type": "markdown",
   "id": "f59f05d3-57a6-48d4-bf77-309600fd7449",
   "metadata": {},
   "source": [
    "farklı gruplardaki veri alt kümelerinin varyanslarının birbirine benzer olması durumunda, varyans homojenliği sağlanmış sayılır."
   ]
  },
  {
   "cell_type": "markdown",
   "id": "7f774456-4cf1-4bcc-9f94-388ccccbe598",
   "metadata": {
    "jp-MarkdownHeadingCollapsed": true,
    "tags": []
   },
   "source": [
    "###  <font color=\"red\">Bağımlı İki Örneklem T Testi Uygulaması( varsayımlarımız doğru çıktı ama doğru kabul ettik)</font>"
   ]
  },
  {
   "cell_type": "code",
   "execution_count": 66,
   "id": "4da40010-0b6b-400a-8b23-a98bede4e664",
   "metadata": {
    "tags": []
   },
   "outputs": [
    {
     "data": {
      "text/plain": [
       "TtestResult(statistic=-9.281533480429937, pvalue=2.0235251764440722e-11, df=39)"
      ]
     },
     "execution_count": 66,
     "metadata": {},
     "output_type": "execute_result"
    }
   ],
   "source": [
    "stats.ttest_rel(AYRIK.ONCESI,AYRIK.SONRASI)"
   ]
  },
  {
   "cell_type": "code",
   "execution_count": 67,
   "id": "48c5e5aa-a539-4664-93b0-fe194e130030",
   "metadata": {
    "tags": []
   },
   "outputs": [
    {
     "name": "stdout",
     "output_type": "stream",
     "text": [
      "Test İstatistiği = -9.28153, p-değeri = 0.00000\n"
     ]
    }
   ],
   "source": [
    "test_istatistigi, pvalue = stats.ttest_rel(AYRIK[\"ONCESI\"], AYRIK[\"SONRASI\"])\n",
    "print('Test İstatistiği = %.5f, p-değeri = %.5f' % (test_istatistigi, pvalue))\n",
    "# p degeri dusuktur yani h0 reddedilir ayni oncesi sonrasina esit degil. kisaca egitim verimlidir"
   ]
  },
  {
   "cell_type": "markdown",
   "id": "01e8ef4c-c6a3-4495-8b58-1f671fc599ec",
   "metadata": {
    "tags": []
   },
   "source": [
    "### <font color=\"red\">Nonparametrik Bağımlı İki Örneklem Testi</font>"
   ]
  },
  {
   "cell_type": "code",
   "execution_count": 68,
   "id": "99dc3659-4f5e-45ee-9e88-9ba8d8fc28af",
   "metadata": {
    "tags": []
   },
   "outputs": [
    {
     "name": "stderr",
     "output_type": "stream",
     "text": [
      "C:\\Users\\Lenovo\\anaconda3\\Lib\\site-packages\\scipy\\stats\\_morestats.py:4088: UserWarning: Exact p-value calculation does not work if there are zeros. Switching to normal approximation.\n",
      "  warnings.warn(\"Exact p-value calculation does not work if there are \"\n"
     ]
    },
    {
     "data": {
      "text/plain": [
       "WilcoxonResult(statistic=15.0, pvalue=2.491492033374464e-07)"
      ]
     },
     "execution_count": 68,
     "metadata": {},
     "output_type": "execute_result"
    }
   ],
   "source": [
    "# varsayimlarim saglanmadı bunu kullamak daha mantıklı oluyor\n",
    "stats.wilcoxon(AYRIK.ONCESI,AYRIK.SONRASI)\n",
    "#uyari veri de sifir var ise p value duzgun hesaplanamaz demek"
   ]
  },
  {
   "cell_type": "code",
   "execution_count": 69,
   "id": "abff729e-123a-41de-a119-c92c313a2b84",
   "metadata": {
    "tags": []
   },
   "outputs": [
    {
     "name": "stdout",
     "output_type": "stream",
     "text": [
      "Test İstatistiği = 15.00000, p-değeri = 0.00000\n"
     ]
    }
   ],
   "source": [
    "test_istatistigi, pvalue = stats.wilcoxon(AYRIK[\"ONCESI\"], AYRIK[\"SONRASI\"])\n",
    "print('Test İstatistiği = %.5f, p-değeri = %.5f' % (test_istatistigi, pvalue))"
   ]
  },
  {
   "cell_type": "markdown",
   "id": "b3dbac56-a46a-40f3-b2de-75318f761b6d",
   "metadata": {
    "jp-MarkdownHeadingCollapsed": true,
    "tags": []
   },
   "source": [
    "## <font color=\"red\">İki Örneklem Oran Testi</font>"
   ]
  },
  {
   "cell_type": "markdown",
   "id": "664ad6eb-5ffb-40a4-ad7c-4e52220748da",
   "metadata": {},
   "source": [
    "İki örneklem oran testi olarak \n",
    "\n",
    "1000 görüntülenme   1100 görüntülenme \n",
    "\n",
    "300 tıklama         250 tıklama  \n",
    "\n",
    "H0: m1=m2\n",
    "H1: m1≠m2 "
   ]
  },
  {
   "cell_type": "code",
   "execution_count": 70,
   "id": "d99dec9d-6d8e-4058-bd8a-6d362572d290",
   "metadata": {},
   "outputs": [],
   "source": [
    "from statsmodels.stats.proportion import proportions_ztest"
   ]
  },
  {
   "cell_type": "code",
   "execution_count": 71,
   "id": "949fe20b-4ccf-4b1b-bf81-cb34536b892a",
   "metadata": {
    "tags": []
   },
   "outputs": [],
   "source": [
    "import numpy as np \n",
    "basari_sayisi=np.array([300,250])\n",
    "gozlem_sayisi=np.array([1000,1100])"
   ]
  },
  {
   "cell_type": "code",
   "execution_count": 72,
   "id": "7de0aca8-295a-49f3-9305-b0965c7d345d",
   "metadata": {
    "tags": []
   },
   "outputs": [
    {
     "data": {
      "text/plain": [
       "(3.7857863233209255, 0.0001532232957772221)"
      ]
     },
     "execution_count": 72,
     "metadata": {},
     "output_type": "execute_result"
    }
   ],
   "source": [
    "proportions_ztest(count=basari_sayisi , nobs=gozlem_sayisi)"
   ]
  },
  {
   "cell_type": "markdown",
   "id": "d1cd0cb0-20c2-43cb-aba5-2bc391dc3102",
   "metadata": {
    "jp-MarkdownHeadingCollapsed": true,
    "tags": []
   },
   "source": [
    "## <font color=\"red\">Varyans Analizi</font>"
   ]
  },
  {
   "cell_type": "markdown",
   "id": "5f9c730a-71da-4fb2-8a44-a350a65fae14",
   "metadata": {},
   "source": [
    "İki ya da daha fazla grup ortalaması araısnda istatistiksel olarak anlamlı farklılık olup olmadığını öğrenmek için kullanılır"
   ]
  },
  {
   "cell_type": "markdown",
   "id": "655a53e0-8894-4cc6-ae92-c0609a208c90",
   "metadata": {},
   "source": [
    "H0: M1 = M2 = M3 (grup ortalamalari arasinda ist anl. farklilik yoktur) \n",
    "\n",
    "H1: Fark vardir."
   ]
  },
  {
   "cell_type": "code",
   "execution_count": 73,
   "id": "af8df6ba-1da7-4be8-b6d9-fd76467e7b36",
   "metadata": {
    "tags": []
   },
   "outputs": [
    {
     "data": {
      "text/html": [
       "<div>\n",
       "<style scoped>\n",
       "    .dataframe tbody tr th:only-of-type {\n",
       "        vertical-align: middle;\n",
       "    }\n",
       "\n",
       "    .dataframe tbody tr th {\n",
       "        vertical-align: top;\n",
       "    }\n",
       "\n",
       "    .dataframe thead th {\n",
       "        text-align: right;\n",
       "    }\n",
       "</style>\n",
       "<table border=\"1\" class=\"dataframe\">\n",
       "  <thead>\n",
       "    <tr style=\"text-align: right;\">\n",
       "      <th></th>\n",
       "      <th>GRUP_A</th>\n",
       "      <th>GRUP_B</th>\n",
       "      <th>GRUP_C</th>\n",
       "    </tr>\n",
       "  </thead>\n",
       "  <tbody>\n",
       "    <tr>\n",
       "      <th>0</th>\n",
       "      <td>28</td>\n",
       "      <td>31</td>\n",
       "      <td>40</td>\n",
       "    </tr>\n",
       "    <tr>\n",
       "      <th>1</th>\n",
       "      <td>33</td>\n",
       "      <td>32</td>\n",
       "      <td>33</td>\n",
       "    </tr>\n",
       "    <tr>\n",
       "      <th>2</th>\n",
       "      <td>30</td>\n",
       "      <td>30</td>\n",
       "      <td>38</td>\n",
       "    </tr>\n",
       "    <tr>\n",
       "      <th>3</th>\n",
       "      <td>29</td>\n",
       "      <td>30</td>\n",
       "      <td>41</td>\n",
       "    </tr>\n",
       "    <tr>\n",
       "      <th>4</th>\n",
       "      <td>28</td>\n",
       "      <td>33</td>\n",
       "      <td>42</td>\n",
       "    </tr>\n",
       "  </tbody>\n",
       "</table>\n",
       "</div>"
      ],
      "text/plain": [
       "   GRUP_A  GRUP_B  GRUP_C\n",
       "0      28      31      40\n",
       "1      33      32      33\n",
       "2      30      30      38\n",
       "3      29      30      41\n",
       "4      28      33      42"
      ]
     },
     "execution_count": 73,
     "metadata": {},
     "output_type": "execute_result"
    }
   ],
   "source": [
    "import pandas as pd\n",
    "A = pd.DataFrame([28,33,30,29,28,29,27,31,30,32,28,33,25,29,27,31,31,30,31,34,30,32,31,34,28,32,31,28,33,29])\n",
    "\n",
    "B = pd.DataFrame([31,32,30,30,33,32,34,27,36,30,31,30,38,29,30,34,34,31,35,35,33,30,28,29,26,37,31,28,34,33])\n",
    "\n",
    "C = pd.DataFrame([40,33,38,41,42,43,38,35,39,39,36,34,35,40,38,36,39,36,33,35,38,35,40,40,39,38,38,43,40,42])\n",
    "\n",
    "dfs = [A, B, C]\n",
    "\n",
    "ABC = pd.concat(dfs, axis = 1)\n",
    "ABC.columns = [\"GRUP_A\",\"GRUP_B\",\"GRUP_C\"]\n",
    "ABC.head()"
   ]
  },
  {
   "cell_type": "markdown",
   "id": "fcbb8b95-d7aa-45ea-baab-6cd611e749b2",
   "metadata": {
    "jp-MarkdownHeadingCollapsed": true,
    "tags": []
   },
   "source": [
    "### <font color=\"red\">Varsayım Kontrolü</font>"
   ]
  },
  {
   "cell_type": "code",
   "execution_count": 74,
   "id": "ed0a28c2-f260-4fd6-ac2c-87a0516b232e",
   "metadata": {
    "tags": []
   },
   "outputs": [
    {
     "data": {
      "text/plain": [
       "ShapiroResult(statistic=0.969743013381958, pvalue=0.5321670174598694)"
      ]
     },
     "execution_count": 74,
     "metadata": {},
     "output_type": "execute_result"
    }
   ],
   "source": [
    "from scipy.stats import shapiro\n",
    "shapiro(ABC.GRUP_A)\n",
    "#fark yok"
   ]
  },
  {
   "cell_type": "code",
   "execution_count": 75,
   "id": "7ddc2356-00f9-4f40-a776-29a993f72f15",
   "metadata": {
    "tags": []
   },
   "outputs": [
    {
     "data": {
      "text/plain": [
       "ShapiroResult(statistic=0.9789853096008301, pvalue=0.7979751229286194)"
      ]
     },
     "execution_count": 75,
     "metadata": {},
     "output_type": "execute_result"
    }
   ],
   "source": [
    "shapiro(ABC.GRUP_B)\n",
    "#fark yok"
   ]
  },
  {
   "cell_type": "code",
   "execution_count": 77,
   "id": "c2dd91d4-854f-4410-b265-433f6a2e68eb",
   "metadata": {
    "tags": []
   },
   "outputs": [
    {
     "data": {
      "text/plain": [
       "ShapiroResult(statistic=0.9579201340675354, pvalue=0.273820161819458)"
      ]
     },
     "execution_count": 77,
     "metadata": {},
     "output_type": "execute_result"
    }
   ],
   "source": [
    "shapiro(ABC.GRUP_C)\n",
    "#fark yok"
   ]
  },
  {
   "cell_type": "code",
   "execution_count": 78,
   "id": "800c32f8-abfb-49ea-ba4f-a6ca39e43d25",
   "metadata": {
    "tags": []
   },
   "outputs": [
    {
     "data": {
      "text/plain": [
       "LeveneResult(statistic=1.0267403645055275, pvalue=0.36247110117417064)"
      ]
     },
     "execution_count": 78,
     "metadata": {},
     "output_type": "execute_result"
    }
   ],
   "source": [
    "import scipy.stats as stats\n",
    "stats.levene(ABC[\"GRUP_A\"],ABC[\"GRUP_B\"],ABC[\"GRUP_C\"])\n",
    "#varsyanlar homojen "
   ]
  },
  {
   "cell_type": "markdown",
   "id": "bd6c2b49-f9c2-4556-a8a9-32ef4d4dfafb",
   "metadata": {
    "tags": []
   },
   "source": [
    "###  <font color=\"red\">Varyans Analizi Uygulama(Hipotez Testi)</font> "
   ]
  },
  {
   "cell_type": "code",
   "execution_count": 79,
   "id": "d8b5bc7d-a892-48e7-a522-1b2ea617df79",
   "metadata": {
    "tags": []
   },
   "outputs": [
    {
     "data": {
      "text/plain": [
       "F_onewayResult(statistic=74.69278140730431, pvalue=1.3079050746811477e-19)"
      ]
     },
     "execution_count": 79,
     "metadata": {},
     "output_type": "execute_result"
    }
   ],
   "source": [
    "from scipy.stats import f_oneway\n",
    "f_oneway(ABC[\"GRUP_A\"],ABC[\"GRUP_B\"],ABC[\"GRUP_C\"])"
   ]
  },
  {
   "cell_type": "code",
   "execution_count": 80,
   "id": "df25116c-12fc-44fa-839a-67fce4ac7e44",
   "metadata": {
    "tags": []
   },
   "outputs": [
    {
     "name": "stdout",
     "output_type": "stream",
     "text": [
      "0.00000\n"
     ]
    }
   ],
   "source": [
    "print('{:.5f}'.format(f_oneway(ABC[\"GRUP_A\"], ABC[\"GRUP_B\"],ABC[\"GRUP_C\"])[1]))"
   ]
  },
  {
   "cell_type": "markdown",
   "id": "dd88d7ff-c623-4452-a70b-d240cc9f97b2",
   "metadata": {
    "tags": []
   },
   "source": [
    "### <font color=\"red\">Nonparametrik Varyans Analizi Hipotez Testi</font>"
   ]
  },
  {
   "cell_type": "code",
   "execution_count": 81,
   "id": "842227f8-11c4-470e-9c95-a7ee978b18e6",
   "metadata": {
    "tags": []
   },
   "outputs": [],
   "source": [
    "from scipy.stats import kruskal"
   ]
  },
  {
   "cell_type": "code",
   "execution_count": 82,
   "id": "74adfde8-1312-426c-bbdf-9d0da6f489fd",
   "metadata": {
    "tags": []
   },
   "outputs": [
    {
     "data": {
      "text/plain": [
       "KruskalResult(statistic=54.19819735523783, pvalue=1.7022015426175926e-12)"
      ]
     },
     "execution_count": 82,
     "metadata": {},
     "output_type": "execute_result"
    }
   ],
   "source": [
    "kruskal(ABC[\"GRUP_A\"],ABC[\"GRUP_B\"],ABC[\"GRUP_C\"])"
   ]
  },
  {
   "cell_type": "markdown",
   "id": "c773f295-ed4e-4fe2-b816-2fc117b082f8",
   "metadata": {
    "tags": []
   },
   "source": [
    "##  <font color=\"red\">Korelasyon Analizi</font> "
   ]
  },
  {
   "cell_type": "markdown",
   "id": "345c2d50-2caf-441f-986a-06d0354f0de8",
   "metadata": {},
   "source": [
    "Değşkenler arasındaki ilişki ve bu ilişkinin yönü ve şiddeti ile ilgili bilgiler sağlayan istatistiksel yöntemdir\n",
    "\n",
    "normallik varsayımı yapılır\n",
    "\n",
    "sağlanıyorsa pearson korelasyon katsayısı \n",
    "\n",
    "sağlanmıyorsa spearman korelasyo katsayısı"
   ]
  },
  {
   "cell_type": "markdown",
   "id": "b2a4b9db-9516-47b3-9803-12f312f25b3e",
   "metadata": {},
   "source": [
    "Bahşiş veri seti:\n",
    "\n",
    "total_bill: yemeğin toplam fiyatı (bahşiş ve vergi dahil)\n",
    "\n",
    "tip: bahşiş\n",
    "\n",
    "sex: ücreti ödeyen kişinin cinsiyeti (0=male, 1=female)\n",
    "\n",
    "smoker: grupta sigara içen var mı? (0=No, 1=Yes)\n",
    "\n",
    "day: gün (3=Thur, 4=Fri, 5=Sat, 6=Sun)\n",
    "\n",
    "time: ne zaman? (0=Day, 1=Night)\n",
    "\n",
    "size: grupta kaç kişi var?"
   ]
  },
  {
   "cell_type": "code",
   "execution_count": 86,
   "id": "5f04666e-e187-4a7c-87ba-d6894d65d378",
   "metadata": {
    "tags": []
   },
   "outputs": [
    {
     "data": {
      "text/html": [
       "<div>\n",
       "<style scoped>\n",
       "    .dataframe tbody tr th:only-of-type {\n",
       "        vertical-align: middle;\n",
       "    }\n",
       "\n",
       "    .dataframe tbody tr th {\n",
       "        vertical-align: top;\n",
       "    }\n",
       "\n",
       "    .dataframe thead th {\n",
       "        text-align: right;\n",
       "    }\n",
       "</style>\n",
       "<table border=\"1\" class=\"dataframe\">\n",
       "  <thead>\n",
       "    <tr style=\"text-align: right;\">\n",
       "      <th></th>\n",
       "      <th>total_bill</th>\n",
       "      <th>tip</th>\n",
       "      <th>sex</th>\n",
       "      <th>smoker</th>\n",
       "      <th>day</th>\n",
       "      <th>time</th>\n",
       "      <th>size</th>\n",
       "    </tr>\n",
       "  </thead>\n",
       "  <tbody>\n",
       "    <tr>\n",
       "      <th>0</th>\n",
       "      <td>16.99</td>\n",
       "      <td>1.01</td>\n",
       "      <td>Female</td>\n",
       "      <td>No</td>\n",
       "      <td>Sun</td>\n",
       "      <td>Dinner</td>\n",
       "      <td>2</td>\n",
       "    </tr>\n",
       "    <tr>\n",
       "      <th>1</th>\n",
       "      <td>10.34</td>\n",
       "      <td>1.66</td>\n",
       "      <td>Male</td>\n",
       "      <td>No</td>\n",
       "      <td>Sun</td>\n",
       "      <td>Dinner</td>\n",
       "      <td>3</td>\n",
       "    </tr>\n",
       "    <tr>\n",
       "      <th>2</th>\n",
       "      <td>21.01</td>\n",
       "      <td>3.50</td>\n",
       "      <td>Male</td>\n",
       "      <td>No</td>\n",
       "      <td>Sun</td>\n",
       "      <td>Dinner</td>\n",
       "      <td>3</td>\n",
       "    </tr>\n",
       "    <tr>\n",
       "      <th>3</th>\n",
       "      <td>23.68</td>\n",
       "      <td>3.31</td>\n",
       "      <td>Male</td>\n",
       "      <td>No</td>\n",
       "      <td>Sun</td>\n",
       "      <td>Dinner</td>\n",
       "      <td>2</td>\n",
       "    </tr>\n",
       "    <tr>\n",
       "      <th>4</th>\n",
       "      <td>24.59</td>\n",
       "      <td>3.61</td>\n",
       "      <td>Female</td>\n",
       "      <td>No</td>\n",
       "      <td>Sun</td>\n",
       "      <td>Dinner</td>\n",
       "      <td>4</td>\n",
       "    </tr>\n",
       "  </tbody>\n",
       "</table>\n",
       "</div>"
      ],
      "text/plain": [
       "   total_bill   tip     sex smoker  day    time  size\n",
       "0       16.99  1.01  Female     No  Sun  Dinner     2\n",
       "1       10.34  1.66    Male     No  Sun  Dinner     3\n",
       "2       21.01  3.50    Male     No  Sun  Dinner     3\n",
       "3       23.68  3.31    Male     No  Sun  Dinner     2\n",
       "4       24.59  3.61  Female     No  Sun  Dinner     4"
      ]
     },
     "execution_count": 86,
     "metadata": {},
     "output_type": "execute_result"
    }
   ],
   "source": [
    "import seaborn as sns\n",
    "tips = sns.load_dataset('tips')\n",
    "df = tips.copy()\n",
    "df.head()"
   ]
  },
  {
   "cell_type": "code",
   "execution_count": 88,
   "id": "544c40f8-f506-43ec-a9b3-736a7d956bc9",
   "metadata": {
    "tags": []
   },
   "outputs": [
    {
     "data": {
      "text/html": [
       "<div>\n",
       "<style scoped>\n",
       "    .dataframe tbody tr th:only-of-type {\n",
       "        vertical-align: middle;\n",
       "    }\n",
       "\n",
       "    .dataframe tbody tr th {\n",
       "        vertical-align: top;\n",
       "    }\n",
       "\n",
       "    .dataframe thead th {\n",
       "        text-align: right;\n",
       "    }\n",
       "</style>\n",
       "<table border=\"1\" class=\"dataframe\">\n",
       "  <thead>\n",
       "    <tr style=\"text-align: right;\">\n",
       "      <th></th>\n",
       "      <th>total_bill</th>\n",
       "      <th>tip</th>\n",
       "      <th>sex</th>\n",
       "      <th>smoker</th>\n",
       "      <th>day</th>\n",
       "      <th>time</th>\n",
       "      <th>size</th>\n",
       "    </tr>\n",
       "  </thead>\n",
       "  <tbody>\n",
       "    <tr>\n",
       "      <th>0</th>\n",
       "      <td>15.98</td>\n",
       "      <td>1.01</td>\n",
       "      <td>Female</td>\n",
       "      <td>No</td>\n",
       "      <td>Sun</td>\n",
       "      <td>Dinner</td>\n",
       "      <td>2</td>\n",
       "    </tr>\n",
       "    <tr>\n",
       "      <th>1</th>\n",
       "      <td>8.68</td>\n",
       "      <td>1.66</td>\n",
       "      <td>Male</td>\n",
       "      <td>No</td>\n",
       "      <td>Sun</td>\n",
       "      <td>Dinner</td>\n",
       "      <td>3</td>\n",
       "    </tr>\n",
       "    <tr>\n",
       "      <th>2</th>\n",
       "      <td>17.51</td>\n",
       "      <td>3.50</td>\n",
       "      <td>Male</td>\n",
       "      <td>No</td>\n",
       "      <td>Sun</td>\n",
       "      <td>Dinner</td>\n",
       "      <td>3</td>\n",
       "    </tr>\n",
       "    <tr>\n",
       "      <th>3</th>\n",
       "      <td>20.37</td>\n",
       "      <td>3.31</td>\n",
       "      <td>Male</td>\n",
       "      <td>No</td>\n",
       "      <td>Sun</td>\n",
       "      <td>Dinner</td>\n",
       "      <td>2</td>\n",
       "    </tr>\n",
       "    <tr>\n",
       "      <th>4</th>\n",
       "      <td>20.98</td>\n",
       "      <td>3.61</td>\n",
       "      <td>Female</td>\n",
       "      <td>No</td>\n",
       "      <td>Sun</td>\n",
       "      <td>Dinner</td>\n",
       "      <td>4</td>\n",
       "    </tr>\n",
       "  </tbody>\n",
       "</table>\n",
       "</div>"
      ],
      "text/plain": [
       "   total_bill   tip     sex smoker  day    time  size\n",
       "0       15.98  1.01  Female     No  Sun  Dinner     2\n",
       "1        8.68  1.66    Male     No  Sun  Dinner     3\n",
       "2       17.51  3.50    Male     No  Sun  Dinner     3\n",
       "3       20.37  3.31    Male     No  Sun  Dinner     2\n",
       "4       20.98  3.61  Female     No  Sun  Dinner     4"
      ]
     },
     "execution_count": 88,
     "metadata": {},
     "output_type": "execute_result"
    }
   ],
   "source": [
    "df[\"total_bill\"] = df[\"total_bill\"] - df[\"tip\"]\n",
    "df.head()"
   ]
  },
  {
   "cell_type": "code",
   "execution_count": 89,
   "id": "94781757-426e-4016-8210-e10e9a68bc87",
   "metadata": {
    "tags": []
   },
   "outputs": [
    {
     "data": {
      "image/png": "[encoded data removed]",
      "text/plain": [
       "<Figure size 640x480 with 1 Axes>"
      ]
     },
     "metadata": {},
     "output_type": "display_data"
    }
   ],
   "source": [
    "df.plot.scatter(\"tip\",\"total_bill\");"
   ]
  },
  {
   "cell_type": "markdown",
   "id": "14b49c4a-7295-481b-a95f-96e63afa4b0b",
   "metadata": {
    "jp-MarkdownHeadingCollapsed": true,
    "tags": []
   },
   "source": [
    "### <font color=\"red\">Varsayım Kontrolü</font> "
   ]
  },
  {
   "cell_type": "code",
   "execution_count": 90,
   "id": "b98f2f5b-6890-4aa2-9789-e94b4895bb1d",
   "metadata": {
    "tags": []
   },
   "outputs": [
    {
     "data": {
      "text/plain": [
       "ShapiroResult(statistic=0.8978114128112793, pvalue=8.200817629144819e-12)"
      ]
     },
     "execution_count": 90,
     "metadata": {},
     "output_type": "execute_result"
    }
   ],
   "source": [
    "from scipy.stats import shapiro \n",
    "shapiro(df[\"tip\"])"
   ]
  },
  {
   "cell_type": "code",
   "execution_count": 91,
   "id": "f8bc1ff5-28ee-4336-923c-74223d42adde",
   "metadata": {
    "tags": []
   },
   "outputs": [
    {
     "data": {
      "text/plain": [
       "ShapiroResult(statistic=0.9135653972625732, pvalue=1.1060685700670092e-10)"
      ]
     },
     "execution_count": 91,
     "metadata": {},
     "output_type": "execute_result"
    }
   ],
   "source": [
    "shapiro(df[\"total_bill\"])"
   ]
  },
  {
   "cell_type": "code",
   "execution_count": 93,
   "id": "90f7c1a7-59c0-4680-8a65-1a0186abe490",
   "metadata": {
    "tags": []
   },
   "outputs": [
    {
     "name": "stdout",
     "output_type": "stream",
     "text": [
      "Tip : Test İstatistiği = 0.8978, p-değeri = 0.0000\n",
      "Total bill : Test İstatistiği = 0.9136, p-değeri = 0.0000\n"
     ]
    }
   ],
   "source": [
    "test_istatistigi, pvalue = shapiro(df[\"tip\"])\n",
    "print('Tip : Test İstatistiği = %.4f, p-değeri = %.4f' % (test_istatistigi, pvalue))\n",
    "\n",
    "test_istatistigi, pvalue = shapiro(df[\"total_bill\"])\n",
    "print('Total bill : Test İstatistiği = %.4f, p-değeri = %.4f' % (test_istatistigi, pvalue))"
   ]
  },
  {
   "cell_type": "markdown",
   "id": "e7ddb746-7ef4-4e6e-90c8-cf54ef16762d",
   "metadata": {
    "tags": []
   },
   "source": [
    "### <font color=\"red\">Hipotez testi</font> "
   ]
  },
  {
   "cell_type": "markdown",
   "id": "a2d4705f-d181-4bed-aad4-c44fd0954e0e",
   "metadata": {
    "jp-MarkdownHeadingCollapsed": true,
    "tags": []
   },
   "source": [
    "####  <font color=\"red\">Korelasyon Katsayısı</font> "
   ]
  },
  {
   "cell_type": "code",
   "execution_count": 96,
   "id": "0d40741b-8f9a-42be-957a-3cf55ff824c8",
   "metadata": {
    "tags": []
   },
   "outputs": [
    {
     "data": {
      "text/plain": [
       "0.5766634471096374"
      ]
     },
     "execution_count": 96,
     "metadata": {},
     "output_type": "execute_result"
    }
   ],
   "source": [
    "#varsayim saglanirsa\n",
    "df[\"tip\"].corr(df['total_bill'])"
   ]
  },
  {
   "cell_type": "code",
   "execution_count": 97,
   "id": "ad0e1702-3a43-4927-aca9-135feb574ece",
   "metadata": {
    "tags": []
   },
   "outputs": [
    {
     "data": {
      "text/plain": [
       "0.593691939408997"
      ]
     },
     "execution_count": 97,
     "metadata": {},
     "output_type": "execute_result"
    }
   ],
   "source": [
    "#varsayim saglanmazsa \n",
    "df[\"tip\"].corr(df['total_bill'],method=\"spearman\")"
   ]
  },
  {
   "cell_type": "markdown",
   "id": "5624524b-c64d-470e-a4bc-c03b41c1360b",
   "metadata": {
    "tags": []
   },
   "source": [
    "#### <font color=\"red\">Korelasyonunu Anlamlılığının Testi</font>"
   ]
  },
  {
   "cell_type": "code",
   "execution_count": 98,
   "id": "9c4311d7-391f-4858-84fd-176cf76d2033",
   "metadata": {
    "tags": []
   },
   "outputs": [],
   "source": [
    "from scipy.stats import pearsonr"
   ]
  },
  {
   "cell_type": "code",
   "execution_count": null,
   "id": "655cdeea-854e-48c2-8214-2e9315de37fc",
   "metadata": {
    "tags": []
   },
   "outputs": [],
   "source": [
    "#varsayimlar saglanmis kabul ettik. normalde kabul etmemeliyiz\n",
    "test_istatistigi, pvalue = pearsonr(df[\"tip\"],df[\"total_bill\"])\n",
    "\n",
    "print('Korelasyon Katsayısı = %.4f, p-değeri = %.4f' % (test_istatistigi, pvalue))"
   ]
  },
  {
   "cell_type": "markdown",
   "id": "7cc9df46-e8e0-4092-abe2-859d7ecd7142",
   "metadata": {},
   "source": [
    "####  <font color=\"red\">Nonparametrik Hipotez Testi</font>"
   ]
  },
  {
   "cell_type": "code",
   "execution_count": null,
   "id": "cc8d87b1-24cc-44c5-862b-06bad7e1cdba",
   "metadata": {
    "tags": []
   },
   "outputs": [],
   "source": [
    "from scipy.stats import stats\n",
    "#varsayimlar dogru cikmadigi icin bunu kullanmaliyiz \n",
    "stats.spearmanr(df.tip , df.total_bill)"
   ]
  },
  {
   "cell_type": "code",
   "execution_count": 105,
   "id": "527699c4-6bb1-40b3-982b-e2d54c634904",
   "metadata": {
    "tags": []
   },
   "outputs": [
    {
     "name": "stdout",
     "output_type": "stream",
     "text": [
      "Korelasyon Katsayısı = 0.5937, p-değeri = 0.0000\n"
     ]
    },
    {
     "name": "stderr",
     "output_type": "stream",
     "text": [
      "C:\\Users\\Lenovo\\AppData\\Local\\Temp\\ipykernel_19288\\3367026246.py:1: DeprecationWarning: Please use `spearmanr` from the `scipy.stats` namespace, the `scipy.stats.stats` namespace is deprecated.\n",
      "  test_istatistigi, pvalue = stats.spearmanr(df.tip , df.total_bill)\n"
     ]
    }
   ],
   "source": [
    "test_istatistigi, pvalue = stats.spearmanr(df.tip , df.total_bill)\n",
    "\n",
    "print('Korelasyon Katsayısı = %.4f, p-değeri = %.4f' % (test_istatistigi, pvalue))"
   ]
  }
 ],
 "metadata": {
  "kernelspec": {
   "display_name": "Python 3 (ipykernel)",
   "language": "python",
   "name": "python3"
  },
  "language_info": {
   "codemirror_mode": {
    "name": "ipython",
    "version": 3
   },
   "file_extension": ".py",
   "mimetype": "text/x-python",
   "name": "python",
   "nbconvert_exporter": "python",
   "pygments_lexer": "ipython3",
   "version": "3.11.5"
  }
 },
 "nbformat": 4,
 "nbformat_minor": 5
}
